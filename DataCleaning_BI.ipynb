{
  "cells": [
    {
      "cell_type": "code",
      "execution_count": null,
      "metadata": {
        "id": "D0C5E4tonOK6"
      },
      "outputs": [],
      "source": [
        "import pandas as pd\n",
        "import numpy as np\n",
        "from google.colab import files"
      ]
    },
    {
      "cell_type": "code",
      "source": [
        "test = pd.read_csv('/content/Tweets.csv')"
      ],
      "metadata": {
        "id": "3hcgZDR6_z9q"
      },
      "execution_count": null,
      "outputs": []
    },
    {
      "cell_type": "code",
      "source": [
        "test.head()"
      ],
      "metadata": {
        "colab": {
          "base_uri": "https://localhost:8080/",
          "height": 625
        },
        "id": "4k-s2b7Q_9uI",
        "outputId": "3e416172-fc3c-44ed-dc1e-9df490afb688"
      },
      "execution_count": null,
      "outputs": [
        {
          "output_type": "execute_result",
          "data": {
            "text/plain": [
              "              tweet_id                date_posted  \\\n",
              "0  1622459787781840900  2023-02-06 04:58:51+00:00   \n",
              "1  1622459776083828736  2023-02-06 04:58:49+00:00   \n",
              "2  1622459674955218949  2023-02-06 04:58:25+00:00   \n",
              "3  1622459637801811968  2023-02-06 04:58:16+00:00   \n",
              "4  1622459620446076928  2023-02-06 04:58:12+00:00   \n",
              "\n",
              "                                                text          mentions  \\\n",
              "0          noel i got you starbucks ocean the drink   Starbucks Coffee   \n",
              "1   whos buying mommy her starbucks this morning ...  Starbucks Coffee   \n",
              "2   2 girls with remote vibrators going through a...  Starbucks Coffee   \n",
              "3   i think hes just that dumbguess the dude got ...  Starbucks Coffee   \n",
              "4   polygon has won massmarket attention thanks t...  Starbucks Coffee   \n",
              "\n",
              "               user_id  retweet_count  reply_count  like_count  \\\n",
              "0  1407502243147005953              5            1          28   \n",
              "1  1596207409948762112              2            0           0   \n",
              "2  1279461628816371713             48            0           0   \n",
              "3  1320733420545343488              0            1           1   \n",
              "4  1604704875186905089              2            0           0   \n",
              "\n",
              "   quotetweet_count  impression_count sentiment_type  positive_factor  \\\n",
              "0                 0               794        neutral            0.000   \n",
              "1                 0                 0        neutral            0.000   \n",
              "2                 0                 0        neutral            0.000   \n",
              "3                 0                18       negative            0.000   \n",
              "4                 0                 0       positive            0.474   \n",
              "\n",
              "   negative_factor  neutral_factor  \n",
              "0            0.000           1.000  \n",
              "1            0.000           1.000  \n",
              "2            0.000           1.000  \n",
              "3            0.202           0.798  \n",
              "4            0.000           0.526  "
            ],
            "text/html": [
              "\n",
              "  <div id=\"df-80ae6299-1fe3-4668-8e44-c2021e24df52\">\n",
              "    <div class=\"colab-df-container\">\n",
              "      <div>\n",
              "<style scoped>\n",
              "    .dataframe tbody tr th:only-of-type {\n",
              "        vertical-align: middle;\n",
              "    }\n",
              "\n",
              "    .dataframe tbody tr th {\n",
              "        vertical-align: top;\n",
              "    }\n",
              "\n",
              "    .dataframe thead th {\n",
              "        text-align: right;\n",
              "    }\n",
              "</style>\n",
              "<table border=\"1\" class=\"dataframe\">\n",
              "  <thead>\n",
              "    <tr style=\"text-align: right;\">\n",
              "      <th></th>\n",
              "      <th>tweet_id</th>\n",
              "      <th>date_posted</th>\n",
              "      <th>text</th>\n",
              "      <th>mentions</th>\n",
              "      <th>user_id</th>\n",
              "      <th>retweet_count</th>\n",
              "      <th>reply_count</th>\n",
              "      <th>like_count</th>\n",
              "      <th>quotetweet_count</th>\n",
              "      <th>impression_count</th>\n",
              "      <th>sentiment_type</th>\n",
              "      <th>positive_factor</th>\n",
              "      <th>negative_factor</th>\n",
              "      <th>neutral_factor</th>\n",
              "    </tr>\n",
              "  </thead>\n",
              "  <tbody>\n",
              "    <tr>\n",
              "      <th>0</th>\n",
              "      <td>1622459787781840900</td>\n",
              "      <td>2023-02-06 04:58:51+00:00</td>\n",
              "      <td>noel i got you starbucks ocean the drink</td>\n",
              "      <td>Starbucks Coffee</td>\n",
              "      <td>1407502243147005953</td>\n",
              "      <td>5</td>\n",
              "      <td>1</td>\n",
              "      <td>28</td>\n",
              "      <td>0</td>\n",
              "      <td>794</td>\n",
              "      <td>neutral</td>\n",
              "      <td>0.000</td>\n",
              "      <td>0.000</td>\n",
              "      <td>1.000</td>\n",
              "    </tr>\n",
              "    <tr>\n",
              "      <th>1</th>\n",
              "      <td>1622459776083828736</td>\n",
              "      <td>2023-02-06 04:58:49+00:00</td>\n",
              "      <td>whos buying mommy her starbucks this morning ...</td>\n",
              "      <td>Starbucks Coffee</td>\n",
              "      <td>1596207409948762112</td>\n",
              "      <td>2</td>\n",
              "      <td>0</td>\n",
              "      <td>0</td>\n",
              "      <td>0</td>\n",
              "      <td>0</td>\n",
              "      <td>neutral</td>\n",
              "      <td>0.000</td>\n",
              "      <td>0.000</td>\n",
              "      <td>1.000</td>\n",
              "    </tr>\n",
              "    <tr>\n",
              "      <th>2</th>\n",
              "      <td>1622459674955218949</td>\n",
              "      <td>2023-02-06 04:58:25+00:00</td>\n",
              "      <td>2 girls with remote vibrators going through a...</td>\n",
              "      <td>Starbucks Coffee</td>\n",
              "      <td>1279461628816371713</td>\n",
              "      <td>48</td>\n",
              "      <td>0</td>\n",
              "      <td>0</td>\n",
              "      <td>0</td>\n",
              "      <td>0</td>\n",
              "      <td>neutral</td>\n",
              "      <td>0.000</td>\n",
              "      <td>0.000</td>\n",
              "      <td>1.000</td>\n",
              "    </tr>\n",
              "    <tr>\n",
              "      <th>3</th>\n",
              "      <td>1622459637801811968</td>\n",
              "      <td>2023-02-06 04:58:16+00:00</td>\n",
              "      <td>i think hes just that dumbguess the dude got ...</td>\n",
              "      <td>Starbucks Coffee</td>\n",
              "      <td>1320733420545343488</td>\n",
              "      <td>0</td>\n",
              "      <td>1</td>\n",
              "      <td>1</td>\n",
              "      <td>0</td>\n",
              "      <td>18</td>\n",
              "      <td>negative</td>\n",
              "      <td>0.000</td>\n",
              "      <td>0.202</td>\n",
              "      <td>0.798</td>\n",
              "    </tr>\n",
              "    <tr>\n",
              "      <th>4</th>\n",
              "      <td>1622459620446076928</td>\n",
              "      <td>2023-02-06 04:58:12+00:00</td>\n",
              "      <td>polygon has won massmarket attention thanks t...</td>\n",
              "      <td>Starbucks Coffee</td>\n",
              "      <td>1604704875186905089</td>\n",
              "      <td>2</td>\n",
              "      <td>0</td>\n",
              "      <td>0</td>\n",
              "      <td>0</td>\n",
              "      <td>0</td>\n",
              "      <td>positive</td>\n",
              "      <td>0.474</td>\n",
              "      <td>0.000</td>\n",
              "      <td>0.526</td>\n",
              "    </tr>\n",
              "  </tbody>\n",
              "</table>\n",
              "</div>\n",
              "      <button class=\"colab-df-convert\" onclick=\"convertToInteractive('df-80ae6299-1fe3-4668-8e44-c2021e24df52')\"\n",
              "              title=\"Convert this dataframe to an interactive table.\"\n",
              "              style=\"display:none;\">\n",
              "        \n",
              "  <svg xmlns=\"http://www.w3.org/2000/svg\" height=\"24px\"viewBox=\"0 0 24 24\"\n",
              "       width=\"24px\">\n",
              "    <path d=\"M0 0h24v24H0V0z\" fill=\"none\"/>\n",
              "    <path d=\"M18.56 5.44l.94 2.06.94-2.06 2.06-.94-2.06-.94-.94-2.06-.94 2.06-2.06.94zm-11 1L8.5 8.5l.94-2.06 2.06-.94-2.06-.94L8.5 2.5l-.94 2.06-2.06.94zm10 10l.94 2.06.94-2.06 2.06-.94-2.06-.94-.94-2.06-.94 2.06-2.06.94z\"/><path d=\"M17.41 7.96l-1.37-1.37c-.4-.4-.92-.59-1.43-.59-.52 0-1.04.2-1.43.59L10.3 9.45l-7.72 7.72c-.78.78-.78 2.05 0 2.83L4 21.41c.39.39.9.59 1.41.59.51 0 1.02-.2 1.41-.59l7.78-7.78 2.81-2.81c.8-.78.8-2.07 0-2.86zM5.41 20L4 18.59l7.72-7.72 1.47 1.35L5.41 20z\"/>\n",
              "  </svg>\n",
              "      </button>\n",
              "      \n",
              "  <style>\n",
              "    .colab-df-container {\n",
              "      display:flex;\n",
              "      flex-wrap:wrap;\n",
              "      gap: 12px;\n",
              "    }\n",
              "\n",
              "    .colab-df-convert {\n",
              "      background-color: #E8F0FE;\n",
              "      border: none;\n",
              "      border-radius: 50%;\n",
              "      cursor: pointer;\n",
              "      display: none;\n",
              "      fill: #1967D2;\n",
              "      height: 32px;\n",
              "      padding: 0 0 0 0;\n",
              "      width: 32px;\n",
              "    }\n",
              "\n",
              "    .colab-df-convert:hover {\n",
              "      background-color: #E2EBFA;\n",
              "      box-shadow: 0px 1px 2px rgba(60, 64, 67, 0.3), 0px 1px 3px 1px rgba(60, 64, 67, 0.15);\n",
              "      fill: #174EA6;\n",
              "    }\n",
              "\n",
              "    [theme=dark] .colab-df-convert {\n",
              "      background-color: #3B4455;\n",
              "      fill: #D2E3FC;\n",
              "    }\n",
              "\n",
              "    [theme=dark] .colab-df-convert:hover {\n",
              "      background-color: #434B5C;\n",
              "      box-shadow: 0px 1px 3px 1px rgba(0, 0, 0, 0.15);\n",
              "      filter: drop-shadow(0px 1px 2px rgba(0, 0, 0, 0.3));\n",
              "      fill: #FFFFFF;\n",
              "    }\n",
              "  </style>\n",
              "\n",
              "      <script>\n",
              "        const buttonEl =\n",
              "          document.querySelector('#df-80ae6299-1fe3-4668-8e44-c2021e24df52 button.colab-df-convert');\n",
              "        buttonEl.style.display =\n",
              "          google.colab.kernel.accessAllowed ? 'block' : 'none';\n",
              "\n",
              "        async function convertToInteractive(key) {\n",
              "          const element = document.querySelector('#df-80ae6299-1fe3-4668-8e44-c2021e24df52');\n",
              "          const dataTable =\n",
              "            await google.colab.kernel.invokeFunction('convertToInteractive',\n",
              "                                                     [key], {});\n",
              "          if (!dataTable) return;\n",
              "\n",
              "          const docLinkHtml = 'Like what you see? Visit the ' +\n",
              "            '<a target=\"_blank\" href=https://colab.research.google.com/notebooks/data_table.ipynb>data table notebook</a>'\n",
              "            + ' to learn more about interactive tables.';\n",
              "          element.innerHTML = '';\n",
              "          dataTable['output_type'] = 'display_data';\n",
              "          await google.colab.output.renderOutput(dataTable, element);\n",
              "          const docLink = document.createElement('div');\n",
              "          docLink.innerHTML = docLinkHtml;\n",
              "          element.appendChild(docLink);\n",
              "        }\n",
              "      </script>\n",
              "    </div>\n",
              "  </div>\n",
              "  "
            ]
          },
          "metadata": {},
          "execution_count": 3
        }
      ]
    },
    {
      "cell_type": "code",
      "source": [
        "len(test[(test['mentions'] == 'Delta') & (test['sentiment_type'] == 'neutral')])"
      ],
      "metadata": {
        "colab": {
          "base_uri": "https://localhost:8080/"
        },
        "id": "g_0t1aTcADwx",
        "outputId": "a4cd5b48-6ac2-4c9f-aaa5-bcb3db4c822a"
      },
      "execution_count": null,
      "outputs": [
        {
          "output_type": "execute_result",
          "data": {
            "text/plain": [
              "178"
            ]
          },
          "metadata": {},
          "execution_count": 5
        }
      ]
    },
    {
      "cell_type": "markdown",
      "source": [
        "##Time Formatting"
      ],
      "metadata": {
        "id": "HNW3_nhdfRhV"
      }
    },
    {
      "cell_type": "code",
      "source": [
        "user = pd.read_csv('/content/User.csv')\n",
        "tweet =  pd.read_csv('/content/Tweet.csv')"
      ],
      "metadata": {
        "id": "PCZzux3ncAKC"
      },
      "execution_count": null,
      "outputs": []
    },
    {
      "cell_type": "code",
      "source": [
        "user.head()"
      ],
      "metadata": {
        "colab": {
          "base_uri": "https://localhost:8080/",
          "height": 333
        },
        "id": "9RGO_lWWcAqE",
        "outputId": "66decb0d-5dbf-4374-a85b-08b3c6d87269"
      },
      "execution_count": null,
      "outputs": [
        {
          "output_type": "execute_result",
          "data": {
            "text/plain": [
              "              user_id        username                      name  \\\n",
              "0  999994559097602048        42cali0G                       NaN   \n",
              "1  999825048578834432      blah_arjii  Riiica wants to see skz    \n",
              "2  999785418282414080  _OWARIHAJIMUGI                  Atarashi   \n",
              "3  999765192824238086  ZacharyCosta14             Zachary Costa   \n",
              "4  999756097694158851        Chimike9                   Chimike   \n",
              "\n",
              "                date_joined  \\\n",
              "0  2018-05-25T12:44:16.000Z   \n",
              "1  2018-05-25T01:30:42.000Z   \n",
              "2  2018-05-24T22:53:13.000Z   \n",
              "3  2018-05-24T21:32:51.000Z   \n",
              "4  2018-05-24T20:56:43.000Z   \n",
              "\n",
              "                                                 bio  \\\n",
              "0                       you know what it izzzzzzzzzz   \n",
              "1                                   StayZens ExoL 18   \n",
              "2  Big TWEWY KOn fan Sawako Yamanakas number one ...   \n",
              "3  Im 35 Autistic Person Who Wants ADateWith In N...   \n",
              "4                                                NaN   \n",
              "\n",
              "                                            location  \n",
              "0                       you know what it izzzzzzzzzz  \n",
              "1                                   StayZens ExoL 18  \n",
              "2  Big TWEWY KOn fan Sawako Yamanakas number one ...  \n",
              "3  Im 35 Autistic Person Who Wants ADateWith In N...  \n",
              "4                                                NaN  "
            ],
            "text/html": [
              "\n",
              "  <div id=\"df-50542ba6-4797-4f05-b8fd-8b1970b17bca\">\n",
              "    <div class=\"colab-df-container\">\n",
              "      <div>\n",
              "<style scoped>\n",
              "    .dataframe tbody tr th:only-of-type {\n",
              "        vertical-align: middle;\n",
              "    }\n",
              "\n",
              "    .dataframe tbody tr th {\n",
              "        vertical-align: top;\n",
              "    }\n",
              "\n",
              "    .dataframe thead th {\n",
              "        text-align: right;\n",
              "    }\n",
              "</style>\n",
              "<table border=\"1\" class=\"dataframe\">\n",
              "  <thead>\n",
              "    <tr style=\"text-align: right;\">\n",
              "      <th></th>\n",
              "      <th>user_id</th>\n",
              "      <th>username</th>\n",
              "      <th>name</th>\n",
              "      <th>date_joined</th>\n",
              "      <th>bio</th>\n",
              "      <th>location</th>\n",
              "    </tr>\n",
              "  </thead>\n",
              "  <tbody>\n",
              "    <tr>\n",
              "      <th>0</th>\n",
              "      <td>999994559097602048</td>\n",
              "      <td>42cali0G</td>\n",
              "      <td>NaN</td>\n",
              "      <td>2018-05-25T12:44:16.000Z</td>\n",
              "      <td>you know what it izzzzzzzzzz</td>\n",
              "      <td>you know what it izzzzzzzzzz</td>\n",
              "    </tr>\n",
              "    <tr>\n",
              "      <th>1</th>\n",
              "      <td>999825048578834432</td>\n",
              "      <td>blah_arjii</td>\n",
              "      <td>Riiica wants to see skz</td>\n",
              "      <td>2018-05-25T01:30:42.000Z</td>\n",
              "      <td>StayZens ExoL 18</td>\n",
              "      <td>StayZens ExoL 18</td>\n",
              "    </tr>\n",
              "    <tr>\n",
              "      <th>2</th>\n",
              "      <td>999785418282414080</td>\n",
              "      <td>_OWARIHAJIMUGI</td>\n",
              "      <td>Atarashi</td>\n",
              "      <td>2018-05-24T22:53:13.000Z</td>\n",
              "      <td>Big TWEWY KOn fan Sawako Yamanakas number one ...</td>\n",
              "      <td>Big TWEWY KOn fan Sawako Yamanakas number one ...</td>\n",
              "    </tr>\n",
              "    <tr>\n",
              "      <th>3</th>\n",
              "      <td>999765192824238086</td>\n",
              "      <td>ZacharyCosta14</td>\n",
              "      <td>Zachary Costa</td>\n",
              "      <td>2018-05-24T21:32:51.000Z</td>\n",
              "      <td>Im 35 Autistic Person Who Wants ADateWith In N...</td>\n",
              "      <td>Im 35 Autistic Person Who Wants ADateWith In N...</td>\n",
              "    </tr>\n",
              "    <tr>\n",
              "      <th>4</th>\n",
              "      <td>999756097694158851</td>\n",
              "      <td>Chimike9</td>\n",
              "      <td>Chimike</td>\n",
              "      <td>2018-05-24T20:56:43.000Z</td>\n",
              "      <td>NaN</td>\n",
              "      <td>NaN</td>\n",
              "    </tr>\n",
              "  </tbody>\n",
              "</table>\n",
              "</div>\n",
              "      <button class=\"colab-df-convert\" onclick=\"convertToInteractive('df-50542ba6-4797-4f05-b8fd-8b1970b17bca')\"\n",
              "              title=\"Convert this dataframe to an interactive table.\"\n",
              "              style=\"display:none;\">\n",
              "        \n",
              "  <svg xmlns=\"http://www.w3.org/2000/svg\" height=\"24px\"viewBox=\"0 0 24 24\"\n",
              "       width=\"24px\">\n",
              "    <path d=\"M0 0h24v24H0V0z\" fill=\"none\"/>\n",
              "    <path d=\"M18.56 5.44l.94 2.06.94-2.06 2.06-.94-2.06-.94-.94-2.06-.94 2.06-2.06.94zm-11 1L8.5 8.5l.94-2.06 2.06-.94-2.06-.94L8.5 2.5l-.94 2.06-2.06.94zm10 10l.94 2.06.94-2.06 2.06-.94-2.06-.94-.94-2.06-.94 2.06-2.06.94z\"/><path d=\"M17.41 7.96l-1.37-1.37c-.4-.4-.92-.59-1.43-.59-.52 0-1.04.2-1.43.59L10.3 9.45l-7.72 7.72c-.78.78-.78 2.05 0 2.83L4 21.41c.39.39.9.59 1.41.59.51 0 1.02-.2 1.41-.59l7.78-7.78 2.81-2.81c.8-.78.8-2.07 0-2.86zM5.41 20L4 18.59l7.72-7.72 1.47 1.35L5.41 20z\"/>\n",
              "  </svg>\n",
              "      </button>\n",
              "      \n",
              "  <style>\n",
              "    .colab-df-container {\n",
              "      display:flex;\n",
              "      flex-wrap:wrap;\n",
              "      gap: 12px;\n",
              "    }\n",
              "\n",
              "    .colab-df-convert {\n",
              "      background-color: #E8F0FE;\n",
              "      border: none;\n",
              "      border-radius: 50%;\n",
              "      cursor: pointer;\n",
              "      display: none;\n",
              "      fill: #1967D2;\n",
              "      height: 32px;\n",
              "      padding: 0 0 0 0;\n",
              "      width: 32px;\n",
              "    }\n",
              "\n",
              "    .colab-df-convert:hover {\n",
              "      background-color: #E2EBFA;\n",
              "      box-shadow: 0px 1px 2px rgba(60, 64, 67, 0.3), 0px 1px 3px 1px rgba(60, 64, 67, 0.15);\n",
              "      fill: #174EA6;\n",
              "    }\n",
              "\n",
              "    [theme=dark] .colab-df-convert {\n",
              "      background-color: #3B4455;\n",
              "      fill: #D2E3FC;\n",
              "    }\n",
              "\n",
              "    [theme=dark] .colab-df-convert:hover {\n",
              "      background-color: #434B5C;\n",
              "      box-shadow: 0px 1px 3px 1px rgba(0, 0, 0, 0.15);\n",
              "      filter: drop-shadow(0px 1px 2px rgba(0, 0, 0, 0.3));\n",
              "      fill: #FFFFFF;\n",
              "    }\n",
              "  </style>\n",
              "\n",
              "      <script>\n",
              "        const buttonEl =\n",
              "          document.querySelector('#df-50542ba6-4797-4f05-b8fd-8b1970b17bca button.colab-df-convert');\n",
              "        buttonEl.style.display =\n",
              "          google.colab.kernel.accessAllowed ? 'block' : 'none';\n",
              "\n",
              "        async function convertToInteractive(key) {\n",
              "          const element = document.querySelector('#df-50542ba6-4797-4f05-b8fd-8b1970b17bca');\n",
              "          const dataTable =\n",
              "            await google.colab.kernel.invokeFunction('convertToInteractive',\n",
              "                                                     [key], {});\n",
              "          if (!dataTable) return;\n",
              "\n",
              "          const docLinkHtml = 'Like what you see? Visit the ' +\n",
              "            '<a target=\"_blank\" href=https://colab.research.google.com/notebooks/data_table.ipynb>data table notebook</a>'\n",
              "            + ' to learn more about interactive tables.';\n",
              "          element.innerHTML = '';\n",
              "          dataTable['output_type'] = 'display_data';\n",
              "          await google.colab.output.renderOutput(dataTable, element);\n",
              "          const docLink = document.createElement('div');\n",
              "          docLink.innerHTML = docLinkHtml;\n",
              "          element.appendChild(docLink);\n",
              "        }\n",
              "      </script>\n",
              "    </div>\n",
              "  </div>\n",
              "  "
            ]
          },
          "metadata": {},
          "execution_count": 32
        }
      ]
    },
    {
      "cell_type": "code",
      "source": [
        "tweet.head()"
      ],
      "metadata": {
        "colab": {
          "base_uri": "https://localhost:8080/",
          "height": 204
        },
        "id": "qtDEsDDEewsD",
        "outputId": "dbfd086c-6418-48fc-a5df-19e8ecbb1d17"
      },
      "execution_count": null,
      "outputs": [
        {
          "output_type": "execute_result",
          "data": {
            "text/plain": [
              "              tweet_id               date_posted  \\\n",
              "0  1622459787781840900  2023-02-06T04:58:51.000Z   \n",
              "1  1622459776083828736  2023-02-06T04:58:49.000Z   \n",
              "2  1622459674955218949  2023-02-06T04:58:25.000Z   \n",
              "3  1622459637801811968  2023-02-06T04:58:16.000Z   \n",
              "4  1622459620446076928  2023-02-06T04:58:12.000Z   \n",
              "\n",
              "                                                text   mentions  \n",
              "0          noel i got you starbucks ocean the drink   Starbucks  \n",
              "1   whos buying mommy her starbucks this morning ...  Starbucks  \n",
              "2   2 girls with remote vibrators going through a...  Starbucks  \n",
              "3   i think hes just that dumbguess the dude got ...  Starbucks  \n",
              "4   polygon has won massmarket attention thanks t...  Starbucks  "
            ],
            "text/html": [
              "\n",
              "  <div id=\"df-bda9905e-f1e5-40ce-ac14-5dd7477c8034\">\n",
              "    <div class=\"colab-df-container\">\n",
              "      <div>\n",
              "<style scoped>\n",
              "    .dataframe tbody tr th:only-of-type {\n",
              "        vertical-align: middle;\n",
              "    }\n",
              "\n",
              "    .dataframe tbody tr th {\n",
              "        vertical-align: top;\n",
              "    }\n",
              "\n",
              "    .dataframe thead th {\n",
              "        text-align: right;\n",
              "    }\n",
              "</style>\n",
              "<table border=\"1\" class=\"dataframe\">\n",
              "  <thead>\n",
              "    <tr style=\"text-align: right;\">\n",
              "      <th></th>\n",
              "      <th>tweet_id</th>\n",
              "      <th>date_posted</th>\n",
              "      <th>text</th>\n",
              "      <th>mentions</th>\n",
              "    </tr>\n",
              "  </thead>\n",
              "  <tbody>\n",
              "    <tr>\n",
              "      <th>0</th>\n",
              "      <td>1622459787781840900</td>\n",
              "      <td>2023-02-06T04:58:51.000Z</td>\n",
              "      <td>noel i got you starbucks ocean the drink</td>\n",
              "      <td>Starbucks</td>\n",
              "    </tr>\n",
              "    <tr>\n",
              "      <th>1</th>\n",
              "      <td>1622459776083828736</td>\n",
              "      <td>2023-02-06T04:58:49.000Z</td>\n",
              "      <td>whos buying mommy her starbucks this morning ...</td>\n",
              "      <td>Starbucks</td>\n",
              "    </tr>\n",
              "    <tr>\n",
              "      <th>2</th>\n",
              "      <td>1622459674955218949</td>\n",
              "      <td>2023-02-06T04:58:25.000Z</td>\n",
              "      <td>2 girls with remote vibrators going through a...</td>\n",
              "      <td>Starbucks</td>\n",
              "    </tr>\n",
              "    <tr>\n",
              "      <th>3</th>\n",
              "      <td>1622459637801811968</td>\n",
              "      <td>2023-02-06T04:58:16.000Z</td>\n",
              "      <td>i think hes just that dumbguess the dude got ...</td>\n",
              "      <td>Starbucks</td>\n",
              "    </tr>\n",
              "    <tr>\n",
              "      <th>4</th>\n",
              "      <td>1622459620446076928</td>\n",
              "      <td>2023-02-06T04:58:12.000Z</td>\n",
              "      <td>polygon has won massmarket attention thanks t...</td>\n",
              "      <td>Starbucks</td>\n",
              "    </tr>\n",
              "  </tbody>\n",
              "</table>\n",
              "</div>\n",
              "      <button class=\"colab-df-convert\" onclick=\"convertToInteractive('df-bda9905e-f1e5-40ce-ac14-5dd7477c8034')\"\n",
              "              title=\"Convert this dataframe to an interactive table.\"\n",
              "              style=\"display:none;\">\n",
              "        \n",
              "  <svg xmlns=\"http://www.w3.org/2000/svg\" height=\"24px\"viewBox=\"0 0 24 24\"\n",
              "       width=\"24px\">\n",
              "    <path d=\"M0 0h24v24H0V0z\" fill=\"none\"/>\n",
              "    <path d=\"M18.56 5.44l.94 2.06.94-2.06 2.06-.94-2.06-.94-.94-2.06-.94 2.06-2.06.94zm-11 1L8.5 8.5l.94-2.06 2.06-.94-2.06-.94L8.5 2.5l-.94 2.06-2.06.94zm10 10l.94 2.06.94-2.06 2.06-.94-2.06-.94-.94-2.06-.94 2.06-2.06.94z\"/><path d=\"M17.41 7.96l-1.37-1.37c-.4-.4-.92-.59-1.43-.59-.52 0-1.04.2-1.43.59L10.3 9.45l-7.72 7.72c-.78.78-.78 2.05 0 2.83L4 21.41c.39.39.9.59 1.41.59.51 0 1.02-.2 1.41-.59l7.78-7.78 2.81-2.81c.8-.78.8-2.07 0-2.86zM5.41 20L4 18.59l7.72-7.72 1.47 1.35L5.41 20z\"/>\n",
              "  </svg>\n",
              "      </button>\n",
              "      \n",
              "  <style>\n",
              "    .colab-df-container {\n",
              "      display:flex;\n",
              "      flex-wrap:wrap;\n",
              "      gap: 12px;\n",
              "    }\n",
              "\n",
              "    .colab-df-convert {\n",
              "      background-color: #E8F0FE;\n",
              "      border: none;\n",
              "      border-radius: 50%;\n",
              "      cursor: pointer;\n",
              "      display: none;\n",
              "      fill: #1967D2;\n",
              "      height: 32px;\n",
              "      padding: 0 0 0 0;\n",
              "      width: 32px;\n",
              "    }\n",
              "\n",
              "    .colab-df-convert:hover {\n",
              "      background-color: #E2EBFA;\n",
              "      box-shadow: 0px 1px 2px rgba(60, 64, 67, 0.3), 0px 1px 3px 1px rgba(60, 64, 67, 0.15);\n",
              "      fill: #174EA6;\n",
              "    }\n",
              "\n",
              "    [theme=dark] .colab-df-convert {\n",
              "      background-color: #3B4455;\n",
              "      fill: #D2E3FC;\n",
              "    }\n",
              "\n",
              "    [theme=dark] .colab-df-convert:hover {\n",
              "      background-color: #434B5C;\n",
              "      box-shadow: 0px 1px 3px 1px rgba(0, 0, 0, 0.15);\n",
              "      filter: drop-shadow(0px 1px 2px rgba(0, 0, 0, 0.3));\n",
              "      fill: #FFFFFF;\n",
              "    }\n",
              "  </style>\n",
              "\n",
              "      <script>\n",
              "        const buttonEl =\n",
              "          document.querySelector('#df-bda9905e-f1e5-40ce-ac14-5dd7477c8034 button.colab-df-convert');\n",
              "        buttonEl.style.display =\n",
              "          google.colab.kernel.accessAllowed ? 'block' : 'none';\n",
              "\n",
              "        async function convertToInteractive(key) {\n",
              "          const element = document.querySelector('#df-bda9905e-f1e5-40ce-ac14-5dd7477c8034');\n",
              "          const dataTable =\n",
              "            await google.colab.kernel.invokeFunction('convertToInteractive',\n",
              "                                                     [key], {});\n",
              "          if (!dataTable) return;\n",
              "\n",
              "          const docLinkHtml = 'Like what you see? Visit the ' +\n",
              "            '<a target=\"_blank\" href=https://colab.research.google.com/notebooks/data_table.ipynb>data table notebook</a>'\n",
              "            + ' to learn more about interactive tables.';\n",
              "          element.innerHTML = '';\n",
              "          dataTable['output_type'] = 'display_data';\n",
              "          await google.colab.output.renderOutput(dataTable, element);\n",
              "          const docLink = document.createElement('div');\n",
              "          docLink.innerHTML = docLinkHtml;\n",
              "          element.appendChild(docLink);\n",
              "        }\n",
              "      </script>\n",
              "    </div>\n",
              "  </div>\n",
              "  "
            ]
          },
          "metadata": {},
          "execution_count": 33
        }
      ]
    },
    {
      "cell_type": "code",
      "source": [
        "import datetime\n",
        "\n",
        "user['date_joined'] = pd.to_datetime(user['date_joined'], format='%Y-%m-%dT%H:%M:%S')\n",
        "tweet['date_posted'] = pd.to_datetime(tweet['date_posted'], format='%Y-%m-%dT%H:%M:%S')"
      ],
      "metadata": {
        "id": "Bseumj3qcAs3"
      },
      "execution_count": null,
      "outputs": []
    },
    {
      "cell_type": "code",
      "source": [
        "user.head()"
      ],
      "metadata": {
        "colab": {
          "base_uri": "https://localhost:8080/",
          "height": 333
        },
        "id": "i0uxHcJaeSHN",
        "outputId": "876dd3cd-d81f-47c5-813a-d0acbf9f3f5c"
      },
      "execution_count": null,
      "outputs": [
        {
          "output_type": "execute_result",
          "data": {
            "text/plain": [
              "              user_id        username                      name  \\\n",
              "0  999994559097602048        42cali0G                       NaN   \n",
              "1  999825048578834432      blah_arjii  Riiica wants to see skz    \n",
              "2  999785418282414080  _OWARIHAJIMUGI                  Atarashi   \n",
              "3  999765192824238086  ZacharyCosta14             Zachary Costa   \n",
              "4  999756097694158851        Chimike9                   Chimike   \n",
              "\n",
              "                date_joined  \\\n",
              "0 2018-05-25 12:44:16+00:00   \n",
              "1 2018-05-25 01:30:42+00:00   \n",
              "2 2018-05-24 22:53:13+00:00   \n",
              "3 2018-05-24 21:32:51+00:00   \n",
              "4 2018-05-24 20:56:43+00:00   \n",
              "\n",
              "                                                 bio  \\\n",
              "0                       you know what it izzzzzzzzzz   \n",
              "1                                   StayZens ExoL 18   \n",
              "2  Big TWEWY KOn fan Sawako Yamanakas number one ...   \n",
              "3  Im 35 Autistic Person Who Wants ADateWith In N...   \n",
              "4                                                NaN   \n",
              "\n",
              "                                            location  \n",
              "0                       you know what it izzzzzzzzzz  \n",
              "1                                   StayZens ExoL 18  \n",
              "2  Big TWEWY KOn fan Sawako Yamanakas number one ...  \n",
              "3  Im 35 Autistic Person Who Wants ADateWith In N...  \n",
              "4                                                NaN  "
            ],
            "text/html": [
              "\n",
              "  <div id=\"df-a08a7128-e506-4936-8fc8-7690734c36a5\">\n",
              "    <div class=\"colab-df-container\">\n",
              "      <div>\n",
              "<style scoped>\n",
              "    .dataframe tbody tr th:only-of-type {\n",
              "        vertical-align: middle;\n",
              "    }\n",
              "\n",
              "    .dataframe tbody tr th {\n",
              "        vertical-align: top;\n",
              "    }\n",
              "\n",
              "    .dataframe thead th {\n",
              "        text-align: right;\n",
              "    }\n",
              "</style>\n",
              "<table border=\"1\" class=\"dataframe\">\n",
              "  <thead>\n",
              "    <tr style=\"text-align: right;\">\n",
              "      <th></th>\n",
              "      <th>user_id</th>\n",
              "      <th>username</th>\n",
              "      <th>name</th>\n",
              "      <th>date_joined</th>\n",
              "      <th>bio</th>\n",
              "      <th>location</th>\n",
              "    </tr>\n",
              "  </thead>\n",
              "  <tbody>\n",
              "    <tr>\n",
              "      <th>0</th>\n",
              "      <td>999994559097602048</td>\n",
              "      <td>42cali0G</td>\n",
              "      <td>NaN</td>\n",
              "      <td>2018-05-25 12:44:16+00:00</td>\n",
              "      <td>you know what it izzzzzzzzzz</td>\n",
              "      <td>you know what it izzzzzzzzzz</td>\n",
              "    </tr>\n",
              "    <tr>\n",
              "      <th>1</th>\n",
              "      <td>999825048578834432</td>\n",
              "      <td>blah_arjii</td>\n",
              "      <td>Riiica wants to see skz</td>\n",
              "      <td>2018-05-25 01:30:42+00:00</td>\n",
              "      <td>StayZens ExoL 18</td>\n",
              "      <td>StayZens ExoL 18</td>\n",
              "    </tr>\n",
              "    <tr>\n",
              "      <th>2</th>\n",
              "      <td>999785418282414080</td>\n",
              "      <td>_OWARIHAJIMUGI</td>\n",
              "      <td>Atarashi</td>\n",
              "      <td>2018-05-24 22:53:13+00:00</td>\n",
              "      <td>Big TWEWY KOn fan Sawako Yamanakas number one ...</td>\n",
              "      <td>Big TWEWY KOn fan Sawako Yamanakas number one ...</td>\n",
              "    </tr>\n",
              "    <tr>\n",
              "      <th>3</th>\n",
              "      <td>999765192824238086</td>\n",
              "      <td>ZacharyCosta14</td>\n",
              "      <td>Zachary Costa</td>\n",
              "      <td>2018-05-24 21:32:51+00:00</td>\n",
              "      <td>Im 35 Autistic Person Who Wants ADateWith In N...</td>\n",
              "      <td>Im 35 Autistic Person Who Wants ADateWith In N...</td>\n",
              "    </tr>\n",
              "    <tr>\n",
              "      <th>4</th>\n",
              "      <td>999756097694158851</td>\n",
              "      <td>Chimike9</td>\n",
              "      <td>Chimike</td>\n",
              "      <td>2018-05-24 20:56:43+00:00</td>\n",
              "      <td>NaN</td>\n",
              "      <td>NaN</td>\n",
              "    </tr>\n",
              "  </tbody>\n",
              "</table>\n",
              "</div>\n",
              "      <button class=\"colab-df-convert\" onclick=\"convertToInteractive('df-a08a7128-e506-4936-8fc8-7690734c36a5')\"\n",
              "              title=\"Convert this dataframe to an interactive table.\"\n",
              "              style=\"display:none;\">\n",
              "        \n",
              "  <svg xmlns=\"http://www.w3.org/2000/svg\" height=\"24px\"viewBox=\"0 0 24 24\"\n",
              "       width=\"24px\">\n",
              "    <path d=\"M0 0h24v24H0V0z\" fill=\"none\"/>\n",
              "    <path d=\"M18.56 5.44l.94 2.06.94-2.06 2.06-.94-2.06-.94-.94-2.06-.94 2.06-2.06.94zm-11 1L8.5 8.5l.94-2.06 2.06-.94-2.06-.94L8.5 2.5l-.94 2.06-2.06.94zm10 10l.94 2.06.94-2.06 2.06-.94-2.06-.94-.94-2.06-.94 2.06-2.06.94z\"/><path d=\"M17.41 7.96l-1.37-1.37c-.4-.4-.92-.59-1.43-.59-.52 0-1.04.2-1.43.59L10.3 9.45l-7.72 7.72c-.78.78-.78 2.05 0 2.83L4 21.41c.39.39.9.59 1.41.59.51 0 1.02-.2 1.41-.59l7.78-7.78 2.81-2.81c.8-.78.8-2.07 0-2.86zM5.41 20L4 18.59l7.72-7.72 1.47 1.35L5.41 20z\"/>\n",
              "  </svg>\n",
              "      </button>\n",
              "      \n",
              "  <style>\n",
              "    .colab-df-container {\n",
              "      display:flex;\n",
              "      flex-wrap:wrap;\n",
              "      gap: 12px;\n",
              "    }\n",
              "\n",
              "    .colab-df-convert {\n",
              "      background-color: #E8F0FE;\n",
              "      border: none;\n",
              "      border-radius: 50%;\n",
              "      cursor: pointer;\n",
              "      display: none;\n",
              "      fill: #1967D2;\n",
              "      height: 32px;\n",
              "      padding: 0 0 0 0;\n",
              "      width: 32px;\n",
              "    }\n",
              "\n",
              "    .colab-df-convert:hover {\n",
              "      background-color: #E2EBFA;\n",
              "      box-shadow: 0px 1px 2px rgba(60, 64, 67, 0.3), 0px 1px 3px 1px rgba(60, 64, 67, 0.15);\n",
              "      fill: #174EA6;\n",
              "    }\n",
              "\n",
              "    [theme=dark] .colab-df-convert {\n",
              "      background-color: #3B4455;\n",
              "      fill: #D2E3FC;\n",
              "    }\n",
              "\n",
              "    [theme=dark] .colab-df-convert:hover {\n",
              "      background-color: #434B5C;\n",
              "      box-shadow: 0px 1px 3px 1px rgba(0, 0, 0, 0.15);\n",
              "      filter: drop-shadow(0px 1px 2px rgba(0, 0, 0, 0.3));\n",
              "      fill: #FFFFFF;\n",
              "    }\n",
              "  </style>\n",
              "\n",
              "      <script>\n",
              "        const buttonEl =\n",
              "          document.querySelector('#df-a08a7128-e506-4936-8fc8-7690734c36a5 button.colab-df-convert');\n",
              "        buttonEl.style.display =\n",
              "          google.colab.kernel.accessAllowed ? 'block' : 'none';\n",
              "\n",
              "        async function convertToInteractive(key) {\n",
              "          const element = document.querySelector('#df-a08a7128-e506-4936-8fc8-7690734c36a5');\n",
              "          const dataTable =\n",
              "            await google.colab.kernel.invokeFunction('convertToInteractive',\n",
              "                                                     [key], {});\n",
              "          if (!dataTable) return;\n",
              "\n",
              "          const docLinkHtml = 'Like what you see? Visit the ' +\n",
              "            '<a target=\"_blank\" href=https://colab.research.google.com/notebooks/data_table.ipynb>data table notebook</a>'\n",
              "            + ' to learn more about interactive tables.';\n",
              "          element.innerHTML = '';\n",
              "          dataTable['output_type'] = 'display_data';\n",
              "          await google.colab.output.renderOutput(dataTable, element);\n",
              "          const docLink = document.createElement('div');\n",
              "          docLink.innerHTML = docLinkHtml;\n",
              "          element.appendChild(docLink);\n",
              "        }\n",
              "      </script>\n",
              "    </div>\n",
              "  </div>\n",
              "  "
            ]
          },
          "metadata": {},
          "execution_count": 35
        }
      ]
    },
    {
      "cell_type": "code",
      "source": [
        "tweet.head()"
      ],
      "metadata": {
        "colab": {
          "base_uri": "https://localhost:8080/",
          "height": 204
        },
        "id": "Qd5ngEVJe5TG",
        "outputId": "10d8641e-38a2-4e72-c466-f91326dfec71"
      },
      "execution_count": null,
      "outputs": [
        {
          "output_type": "execute_result",
          "data": {
            "text/plain": [
              "              tweet_id               date_posted  \\\n",
              "0  1622459787781840900 2023-02-06 04:58:51+00:00   \n",
              "1  1622459776083828736 2023-02-06 04:58:49+00:00   \n",
              "2  1622459674955218949 2023-02-06 04:58:25+00:00   \n",
              "3  1622459637801811968 2023-02-06 04:58:16+00:00   \n",
              "4  1622459620446076928 2023-02-06 04:58:12+00:00   \n",
              "\n",
              "                                                text   mentions  \n",
              "0          noel i got you starbucks ocean the drink   Starbucks  \n",
              "1   whos buying mommy her starbucks this morning ...  Starbucks  \n",
              "2   2 girls with remote vibrators going through a...  Starbucks  \n",
              "3   i think hes just that dumbguess the dude got ...  Starbucks  \n",
              "4   polygon has won massmarket attention thanks t...  Starbucks  "
            ],
            "text/html": [
              "\n",
              "  <div id=\"df-acc69618-967d-4f10-aca9-573b932615e4\">\n",
              "    <div class=\"colab-df-container\">\n",
              "      <div>\n",
              "<style scoped>\n",
              "    .dataframe tbody tr th:only-of-type {\n",
              "        vertical-align: middle;\n",
              "    }\n",
              "\n",
              "    .dataframe tbody tr th {\n",
              "        vertical-align: top;\n",
              "    }\n",
              "\n",
              "    .dataframe thead th {\n",
              "        text-align: right;\n",
              "    }\n",
              "</style>\n",
              "<table border=\"1\" class=\"dataframe\">\n",
              "  <thead>\n",
              "    <tr style=\"text-align: right;\">\n",
              "      <th></th>\n",
              "      <th>tweet_id</th>\n",
              "      <th>date_posted</th>\n",
              "      <th>text</th>\n",
              "      <th>mentions</th>\n",
              "    </tr>\n",
              "  </thead>\n",
              "  <tbody>\n",
              "    <tr>\n",
              "      <th>0</th>\n",
              "      <td>1622459787781840900</td>\n",
              "      <td>2023-02-06 04:58:51+00:00</td>\n",
              "      <td>noel i got you starbucks ocean the drink</td>\n",
              "      <td>Starbucks</td>\n",
              "    </tr>\n",
              "    <tr>\n",
              "      <th>1</th>\n",
              "      <td>1622459776083828736</td>\n",
              "      <td>2023-02-06 04:58:49+00:00</td>\n",
              "      <td>whos buying mommy her starbucks this morning ...</td>\n",
              "      <td>Starbucks</td>\n",
              "    </tr>\n",
              "    <tr>\n",
              "      <th>2</th>\n",
              "      <td>1622459674955218949</td>\n",
              "      <td>2023-02-06 04:58:25+00:00</td>\n",
              "      <td>2 girls with remote vibrators going through a...</td>\n",
              "      <td>Starbucks</td>\n",
              "    </tr>\n",
              "    <tr>\n",
              "      <th>3</th>\n",
              "      <td>1622459637801811968</td>\n",
              "      <td>2023-02-06 04:58:16+00:00</td>\n",
              "      <td>i think hes just that dumbguess the dude got ...</td>\n",
              "      <td>Starbucks</td>\n",
              "    </tr>\n",
              "    <tr>\n",
              "      <th>4</th>\n",
              "      <td>1622459620446076928</td>\n",
              "      <td>2023-02-06 04:58:12+00:00</td>\n",
              "      <td>polygon has won massmarket attention thanks t...</td>\n",
              "      <td>Starbucks</td>\n",
              "    </tr>\n",
              "  </tbody>\n",
              "</table>\n",
              "</div>\n",
              "      <button class=\"colab-df-convert\" onclick=\"convertToInteractive('df-acc69618-967d-4f10-aca9-573b932615e4')\"\n",
              "              title=\"Convert this dataframe to an interactive table.\"\n",
              "              style=\"display:none;\">\n",
              "        \n",
              "  <svg xmlns=\"http://www.w3.org/2000/svg\" height=\"24px\"viewBox=\"0 0 24 24\"\n",
              "       width=\"24px\">\n",
              "    <path d=\"M0 0h24v24H0V0z\" fill=\"none\"/>\n",
              "    <path d=\"M18.56 5.44l.94 2.06.94-2.06 2.06-.94-2.06-.94-.94-2.06-.94 2.06-2.06.94zm-11 1L8.5 8.5l.94-2.06 2.06-.94-2.06-.94L8.5 2.5l-.94 2.06-2.06.94zm10 10l.94 2.06.94-2.06 2.06-.94-2.06-.94-.94-2.06-.94 2.06-2.06.94z\"/><path d=\"M17.41 7.96l-1.37-1.37c-.4-.4-.92-.59-1.43-.59-.52 0-1.04.2-1.43.59L10.3 9.45l-7.72 7.72c-.78.78-.78 2.05 0 2.83L4 21.41c.39.39.9.59 1.41.59.51 0 1.02-.2 1.41-.59l7.78-7.78 2.81-2.81c.8-.78.8-2.07 0-2.86zM5.41 20L4 18.59l7.72-7.72 1.47 1.35L5.41 20z\"/>\n",
              "  </svg>\n",
              "      </button>\n",
              "      \n",
              "  <style>\n",
              "    .colab-df-container {\n",
              "      display:flex;\n",
              "      flex-wrap:wrap;\n",
              "      gap: 12px;\n",
              "    }\n",
              "\n",
              "    .colab-df-convert {\n",
              "      background-color: #E8F0FE;\n",
              "      border: none;\n",
              "      border-radius: 50%;\n",
              "      cursor: pointer;\n",
              "      display: none;\n",
              "      fill: #1967D2;\n",
              "      height: 32px;\n",
              "      padding: 0 0 0 0;\n",
              "      width: 32px;\n",
              "    }\n",
              "\n",
              "    .colab-df-convert:hover {\n",
              "      background-color: #E2EBFA;\n",
              "      box-shadow: 0px 1px 2px rgba(60, 64, 67, 0.3), 0px 1px 3px 1px rgba(60, 64, 67, 0.15);\n",
              "      fill: #174EA6;\n",
              "    }\n",
              "\n",
              "    [theme=dark] .colab-df-convert {\n",
              "      background-color: #3B4455;\n",
              "      fill: #D2E3FC;\n",
              "    }\n",
              "\n",
              "    [theme=dark] .colab-df-convert:hover {\n",
              "      background-color: #434B5C;\n",
              "      box-shadow: 0px 1px 3px 1px rgba(0, 0, 0, 0.15);\n",
              "      filter: drop-shadow(0px 1px 2px rgba(0, 0, 0, 0.3));\n",
              "      fill: #FFFFFF;\n",
              "    }\n",
              "  </style>\n",
              "\n",
              "      <script>\n",
              "        const buttonEl =\n",
              "          document.querySelector('#df-acc69618-967d-4f10-aca9-573b932615e4 button.colab-df-convert');\n",
              "        buttonEl.style.display =\n",
              "          google.colab.kernel.accessAllowed ? 'block' : 'none';\n",
              "\n",
              "        async function convertToInteractive(key) {\n",
              "          const element = document.querySelector('#df-acc69618-967d-4f10-aca9-573b932615e4');\n",
              "          const dataTable =\n",
              "            await google.colab.kernel.invokeFunction('convertToInteractive',\n",
              "                                                     [key], {});\n",
              "          if (!dataTable) return;\n",
              "\n",
              "          const docLinkHtml = 'Like what you see? Visit the ' +\n",
              "            '<a target=\"_blank\" href=https://colab.research.google.com/notebooks/data_table.ipynb>data table notebook</a>'\n",
              "            + ' to learn more about interactive tables.';\n",
              "          element.innerHTML = '';\n",
              "          dataTable['output_type'] = 'display_data';\n",
              "          await google.colab.output.renderOutput(dataTable, element);\n",
              "          const docLink = document.createElement('div');\n",
              "          docLink.innerHTML = docLinkHtml;\n",
              "          element.appendChild(docLink);\n",
              "        }\n",
              "      </script>\n",
              "    </div>\n",
              "  </div>\n",
              "  "
            ]
          },
          "metadata": {},
          "execution_count": 36
        }
      ]
    },
    {
      "cell_type": "code",
      "source": [
        "tweet.to_csv('Tweet.csv', index=False)\n",
        "files.download('Tweet.csv')\n",
        "\n",
        "user.to_csv('User.csv', index=False)\n",
        "files.download('User.csv')"
      ],
      "metadata": {
        "colab": {
          "base_uri": "https://localhost:8080/",
          "height": 17
        },
        "id": "FEeU1ln-fCCs",
        "outputId": "77525987-f4cf-4b21-cd8b-04b7294d74d9"
      },
      "execution_count": null,
      "outputs": [
        {
          "output_type": "display_data",
          "data": {
            "text/plain": [
              "<IPython.core.display.Javascript object>"
            ],
            "application/javascript": [
              "\n",
              "    async function download(id, filename, size) {\n",
              "      if (!google.colab.kernel.accessAllowed) {\n",
              "        return;\n",
              "      }\n",
              "      const div = document.createElement('div');\n",
              "      const label = document.createElement('label');\n",
              "      label.textContent = `Downloading \"${filename}\": `;\n",
              "      div.appendChild(label);\n",
              "      const progress = document.createElement('progress');\n",
              "      progress.max = size;\n",
              "      div.appendChild(progress);\n",
              "      document.body.appendChild(div);\n",
              "\n",
              "      const buffers = [];\n",
              "      let downloaded = 0;\n",
              "\n",
              "      const channel = await google.colab.kernel.comms.open(id);\n",
              "      // Send a message to notify the kernel that we're ready.\n",
              "      channel.send({})\n",
              "\n",
              "      for await (const message of channel.messages) {\n",
              "        // Send a message to notify the kernel that we're ready.\n",
              "        channel.send({})\n",
              "        if (message.buffers) {\n",
              "          for (const buffer of message.buffers) {\n",
              "            buffers.push(buffer);\n",
              "            downloaded += buffer.byteLength;\n",
              "            progress.value = downloaded;\n",
              "          }\n",
              "        }\n",
              "      }\n",
              "      const blob = new Blob(buffers, {type: 'application/binary'});\n",
              "      const a = document.createElement('a');\n",
              "      a.href = window.URL.createObjectURL(blob);\n",
              "      a.download = filename;\n",
              "      div.appendChild(a);\n",
              "      a.click();\n",
              "      div.remove();\n",
              "    }\n",
              "  "
            ]
          },
          "metadata": {}
        },
        {
          "output_type": "display_data",
          "data": {
            "text/plain": [
              "<IPython.core.display.Javascript object>"
            ],
            "application/javascript": [
              "download(\"download_8e518959-f0cf-445d-beaa-9f5266798908\", \"Tweet.csv\", 14098022)"
            ]
          },
          "metadata": {}
        },
        {
          "output_type": "display_data",
          "data": {
            "text/plain": [
              "<IPython.core.display.Javascript object>"
            ],
            "application/javascript": [
              "\n",
              "    async function download(id, filename, size) {\n",
              "      if (!google.colab.kernel.accessAllowed) {\n",
              "        return;\n",
              "      }\n",
              "      const div = document.createElement('div');\n",
              "      const label = document.createElement('label');\n",
              "      label.textContent = `Downloading \"${filename}\": `;\n",
              "      div.appendChild(label);\n",
              "      const progress = document.createElement('progress');\n",
              "      progress.max = size;\n",
              "      div.appendChild(progress);\n",
              "      document.body.appendChild(div);\n",
              "\n",
              "      const buffers = [];\n",
              "      let downloaded = 0;\n",
              "\n",
              "      const channel = await google.colab.kernel.comms.open(id);\n",
              "      // Send a message to notify the kernel that we're ready.\n",
              "      channel.send({})\n",
              "\n",
              "      for await (const message of channel.messages) {\n",
              "        // Send a message to notify the kernel that we're ready.\n",
              "        channel.send({})\n",
              "        if (message.buffers) {\n",
              "          for (const buffer of message.buffers) {\n",
              "            buffers.push(buffer);\n",
              "            downloaded += buffer.byteLength;\n",
              "            progress.value = downloaded;\n",
              "          }\n",
              "        }\n",
              "      }\n",
              "      const blob = new Blob(buffers, {type: 'application/binary'});\n",
              "      const a = document.createElement('a');\n",
              "      a.href = window.URL.createObjectURL(blob);\n",
              "      a.download = filename;\n",
              "      div.appendChild(a);\n",
              "      a.click();\n",
              "      div.remove();\n",
              "    }\n",
              "  "
            ]
          },
          "metadata": {}
        },
        {
          "output_type": "display_data",
          "data": {
            "text/plain": [
              "<IPython.core.display.Javascript object>"
            ],
            "application/javascript": [
              "download(\"download_5e2f349a-8350-48ed-962a-e26e8ca525ce\", \"User.csv\", 11654958)"
            ]
          },
          "metadata": {}
        }
      ]
    },
    {
      "cell_type": "markdown",
      "metadata": {
        "id": "Kl8TZzkMWXcr"
      },
      "source": [
        "##Concatenate"
      ]
    },
    {
      "cell_type": "code",
      "execution_count": null,
      "metadata": {
        "id": "gv3ybWzfRIrY"
      },
      "outputs": [],
      "source": [
        "starbucks = pd.read_csv('/content/Starbucks.csv')\n",
        "dunkin = pd.read_csv('/content/Dunkin.csv')\n",
        "hulu = pd.read_csv('/content/Hulu.csv')\n",
        "netflix = pd.read_csv('/content/Netflix.csv')\n",
        "southwest = pd.read_csv('/content/Southwest.csv')\n",
        "delta = pd.read_csv('/content/Delta.csv')"
      ]
    },
    {
      "cell_type": "code",
      "execution_count": null,
      "metadata": {
        "id": "o0C4YTfhUc2E"
      },
      "outputs": [],
      "source": [
        "starbucks['mentions'] = 'Starbucks'\n",
        "dunkin['mentions'] = 'Dunkin'\n",
        "hulu['mentions'] = 'Hulu'\n",
        "netflix['mentions'] = 'Netflix'\n",
        "southwest['mentions'] = 'Southwest'\n",
        "delta['mentions'] = 'Delta'"
      ]
    },
    {
      "cell_type": "code",
      "execution_count": null,
      "metadata": {
        "colab": {
          "base_uri": "https://localhost:8080/",
          "height": 523
        },
        "id": "jrip_L6OR3cx",
        "outputId": "1cd87e6d-9918-4bda-cded-aeba943599d6"
      },
      "outputs": [
        {
          "data": {
            "text/html": [
              "\n",
              "  <div id=\"df-77ea9e18-dd15-4bfc-80cb-78c84008d103\">\n",
              "    <div class=\"colab-df-container\">\n",
              "      <div>\n",
              "<style scoped>\n",
              "    .dataframe tbody tr th:only-of-type {\n",
              "        vertical-align: middle;\n",
              "    }\n",
              "\n",
              "    .dataframe tbody tr th {\n",
              "        vertical-align: top;\n",
              "    }\n",
              "\n",
              "    .dataframe thead th {\n",
              "        text-align: right;\n",
              "    }\n",
              "</style>\n",
              "<table border=\"1\" class=\"dataframe\">\n",
              "  <thead>\n",
              "    <tr style=\"text-align: right;\">\n",
              "      <th></th>\n",
              "      <th>tweet_id</th>\n",
              "      <th>user_id</th>\n",
              "      <th>date_posted</th>\n",
              "      <th>retweet_count</th>\n",
              "      <th>reply_count</th>\n",
              "      <th>like_count</th>\n",
              "      <th>quotetweet_count</th>\n",
              "      <th>impression_count</th>\n",
              "      <th>text</th>\n",
              "      <th>mentions</th>\n",
              "    </tr>\n",
              "  </thead>\n",
              "  <tbody>\n",
              "    <tr>\n",
              "      <th>0</th>\n",
              "      <td>1635143549179031557</td>\n",
              "      <td>1470638974964277249</td>\n",
              "      <td>2023-03-13T04:59:36.000Z</td>\n",
              "      <td>0</td>\n",
              "      <td>0</td>\n",
              "      <td>0</td>\n",
              "      <td>0</td>\n",
              "      <td>4</td>\n",
              "      <td>@CalltoActivism @Starbucks Could be Trumps sis...</td>\n",
              "      <td>Starbucks</td>\n",
              "    </tr>\n",
              "    <tr>\n",
              "      <th>1</th>\n",
              "      <td>1635143531944873985</td>\n",
              "      <td>1519054874067021831</td>\n",
              "      <td>2023-03-13T04:59:32.000Z</td>\n",
              "      <td>0</td>\n",
              "      <td>0</td>\n",
              "      <td>0</td>\n",
              "      <td>0</td>\n",
              "      <td>21</td>\n",
              "      <td>@CidRising @VVh1sp3r @CalltoActivism @Starbuck...</td>\n",
              "      <td>Starbucks</td>\n",
              "    </tr>\n",
              "    <tr>\n",
              "      <th>2</th>\n",
              "      <td>1635143475749613569</td>\n",
              "      <td>1519054874067021831</td>\n",
              "      <td>2023-03-13T04:59:18.000Z</td>\n",
              "      <td>0</td>\n",
              "      <td>1</td>\n",
              "      <td>0</td>\n",
              "      <td>0</td>\n",
              "      <td>28</td>\n",
              "      <td>@VVh1sp3r @CidRising @CalltoActivism @Starbuck...</td>\n",
              "      <td>Starbucks</td>\n",
              "    </tr>\n",
              "    <tr>\n",
              "      <th>3</th>\n",
              "      <td>1635143416932872193</td>\n",
              "      <td>80872391</td>\n",
              "      <td>2023-03-13T04:59:04.000Z</td>\n",
              "      <td>0</td>\n",
              "      <td>0</td>\n",
              "      <td>0</td>\n",
              "      <td>0</td>\n",
              "      <td>15</td>\n",
              "      <td>@khatumokeen your people are wandering in the ...</td>\n",
              "      <td>Starbucks</td>\n",
              "    </tr>\n",
              "    <tr>\n",
              "      <th>4</th>\n",
              "      <td>1635143391284727809</td>\n",
              "      <td>1599035809763848194</td>\n",
              "      <td>2023-03-13T04:58:58.000Z</td>\n",
              "      <td>0</td>\n",
              "      <td>0</td>\n",
              "      <td>0</td>\n",
              "      <td>0</td>\n",
              "      <td>3</td>\n",
              "      <td>@CalltoActivism @Starbucks I’m having a hard t...</td>\n",
              "      <td>Starbucks</td>\n",
              "    </tr>\n",
              "  </tbody>\n",
              "</table>\n",
              "</div>\n",
              "      <button class=\"colab-df-convert\" onclick=\"convertToInteractive('df-77ea9e18-dd15-4bfc-80cb-78c84008d103')\"\n",
              "              title=\"Convert this dataframe to an interactive table.\"\n",
              "              style=\"display:none;\">\n",
              "        \n",
              "  <svg xmlns=\"http://www.w3.org/2000/svg\" height=\"24px\"viewBox=\"0 0 24 24\"\n",
              "       width=\"24px\">\n",
              "    <path d=\"M0 0h24v24H0V0z\" fill=\"none\"/>\n",
              "    <path d=\"M18.56 5.44l.94 2.06.94-2.06 2.06-.94-2.06-.94-.94-2.06-.94 2.06-2.06.94zm-11 1L8.5 8.5l.94-2.06 2.06-.94-2.06-.94L8.5 2.5l-.94 2.06-2.06.94zm10 10l.94 2.06.94-2.06 2.06-.94-2.06-.94-.94-2.06-.94 2.06-2.06.94z\"/><path d=\"M17.41 7.96l-1.37-1.37c-.4-.4-.92-.59-1.43-.59-.52 0-1.04.2-1.43.59L10.3 9.45l-7.72 7.72c-.78.78-.78 2.05 0 2.83L4 21.41c.39.39.9.59 1.41.59.51 0 1.02-.2 1.41-.59l7.78-7.78 2.81-2.81c.8-.78.8-2.07 0-2.86zM5.41 20L4 18.59l7.72-7.72 1.47 1.35L5.41 20z\"/>\n",
              "  </svg>\n",
              "      </button>\n",
              "      \n",
              "  <style>\n",
              "    .colab-df-container {\n",
              "      display:flex;\n",
              "      flex-wrap:wrap;\n",
              "      gap: 12px;\n",
              "    }\n",
              "\n",
              "    .colab-df-convert {\n",
              "      background-color: #E8F0FE;\n",
              "      border: none;\n",
              "      border-radius: 50%;\n",
              "      cursor: pointer;\n",
              "      display: none;\n",
              "      fill: #1967D2;\n",
              "      height: 32px;\n",
              "      padding: 0 0 0 0;\n",
              "      width: 32px;\n",
              "    }\n",
              "\n",
              "    .colab-df-convert:hover {\n",
              "      background-color: #E2EBFA;\n",
              "      box-shadow: 0px 1px 2px rgba(60, 64, 67, 0.3), 0px 1px 3px 1px rgba(60, 64, 67, 0.15);\n",
              "      fill: #174EA6;\n",
              "    }\n",
              "\n",
              "    [theme=dark] .colab-df-convert {\n",
              "      background-color: #3B4455;\n",
              "      fill: #D2E3FC;\n",
              "    }\n",
              "\n",
              "    [theme=dark] .colab-df-convert:hover {\n",
              "      background-color: #434B5C;\n",
              "      box-shadow: 0px 1px 3px 1px rgba(0, 0, 0, 0.15);\n",
              "      filter: drop-shadow(0px 1px 2px rgba(0, 0, 0, 0.3));\n",
              "      fill: #FFFFFF;\n",
              "    }\n",
              "  </style>\n",
              "\n",
              "      <script>\n",
              "        const buttonEl =\n",
              "          document.querySelector('#df-77ea9e18-dd15-4bfc-80cb-78c84008d103 button.colab-df-convert');\n",
              "        buttonEl.style.display =\n",
              "          google.colab.kernel.accessAllowed ? 'block' : 'none';\n",
              "\n",
              "        async function convertToInteractive(key) {\n",
              "          const element = document.querySelector('#df-77ea9e18-dd15-4bfc-80cb-78c84008d103');\n",
              "          const dataTable =\n",
              "            await google.colab.kernel.invokeFunction('convertToInteractive',\n",
              "                                                     [key], {});\n",
              "          if (!dataTable) return;\n",
              "\n",
              "          const docLinkHtml = 'Like what you see? Visit the ' +\n",
              "            '<a target=\"_blank\" href=https://colab.research.google.com/notebooks/data_table.ipynb>data table notebook</a>'\n",
              "            + ' to learn more about interactive tables.';\n",
              "          element.innerHTML = '';\n",
              "          dataTable['output_type'] = 'display_data';\n",
              "          await google.colab.output.renderOutput(dataTable, element);\n",
              "          const docLink = document.createElement('div');\n",
              "          docLink.innerHTML = docLinkHtml;\n",
              "          element.appendChild(docLink);\n",
              "        }\n",
              "      </script>\n",
              "    </div>\n",
              "  </div>\n",
              "  "
            ],
            "text/plain": [
              "              tweet_id              user_id               date_posted  \\\n",
              "0  1635143549179031557  1470638974964277249  2023-03-13T04:59:36.000Z   \n",
              "1  1635143531944873985  1519054874067021831  2023-03-13T04:59:32.000Z   \n",
              "2  1635143475749613569  1519054874067021831  2023-03-13T04:59:18.000Z   \n",
              "3  1635143416932872193             80872391  2023-03-13T04:59:04.000Z   \n",
              "4  1635143391284727809  1599035809763848194  2023-03-13T04:58:58.000Z   \n",
              "\n",
              "   retweet_count  reply_count  like_count  quotetweet_count  impression_count  \\\n",
              "0              0            0           0                 0                 4   \n",
              "1              0            0           0                 0                21   \n",
              "2              0            1           0                 0                28   \n",
              "3              0            0           0                 0                15   \n",
              "4              0            0           0                 0                 3   \n",
              "\n",
              "                                                text   mentions  \n",
              "0  @CalltoActivism @Starbucks Could be Trumps sis...  Starbucks  \n",
              "1  @CidRising @VVh1sp3r @CalltoActivism @Starbuck...  Starbucks  \n",
              "2  @VVh1sp3r @CidRising @CalltoActivism @Starbuck...  Starbucks  \n",
              "3  @khatumokeen your people are wandering in the ...  Starbucks  \n",
              "4  @CalltoActivism @Starbucks I’m having a hard t...  Starbucks  "
            ]
          },
          "execution_count": 4,
          "metadata": {},
          "output_type": "execute_result"
        }
      ],
      "source": [
        "df_tweets = pd.concat([starbucks, dunkin, netflix, southwest, delta], axis = 0)\n",
        "df_tweets.head()"
      ]
    },
    {
      "cell_type": "code",
      "execution_count": null,
      "metadata": {
        "colab": {
          "base_uri": "https://localhost:8080/",
          "height": 17
        },
        "id": "9jimFZQRULqm",
        "outputId": "c4f702ef-fedf-4f19-9c5e-ae1da75bd5fb"
      },
      "outputs": [
        {
          "data": {
            "application/javascript": [
              "\n",
              "    async function download(id, filename, size) {\n",
              "      if (!google.colab.kernel.accessAllowed) {\n",
              "        return;\n",
              "      }\n",
              "      const div = document.createElement('div');\n",
              "      const label = document.createElement('label');\n",
              "      label.textContent = `Downloading \"${filename}\": `;\n",
              "      div.appendChild(label);\n",
              "      const progress = document.createElement('progress');\n",
              "      progress.max = size;\n",
              "      div.appendChild(progress);\n",
              "      document.body.appendChild(div);\n",
              "\n",
              "      const buffers = [];\n",
              "      let downloaded = 0;\n",
              "\n",
              "      const channel = await google.colab.kernel.comms.open(id);\n",
              "      // Send a message to notify the kernel that we're ready.\n",
              "      channel.send({})\n",
              "\n",
              "      for await (const message of channel.messages) {\n",
              "        // Send a message to notify the kernel that we're ready.\n",
              "        channel.send({})\n",
              "        if (message.buffers) {\n",
              "          for (const buffer of message.buffers) {\n",
              "            buffers.push(buffer);\n",
              "            downloaded += buffer.byteLength;\n",
              "            progress.value = downloaded;\n",
              "          }\n",
              "        }\n",
              "      }\n",
              "      const blob = new Blob(buffers, {type: 'application/binary'});\n",
              "      const a = document.createElement('a');\n",
              "      a.href = window.URL.createObjectURL(blob);\n",
              "      a.download = filename;\n",
              "      div.appendChild(a);\n",
              "      a.click();\n",
              "      div.remove();\n",
              "    }\n",
              "  "
            ],
            "text/plain": [
              "<IPython.core.display.Javascript object>"
            ]
          },
          "metadata": {},
          "output_type": "display_data"
        },
        {
          "data": {
            "application/javascript": [
              "download(\"download_2a7ff9dc-d6c1-4ae2-a810-f9a2d5adace3\", \"Tweets_Week6.csv\", 4184559)"
            ],
            "text/plain": [
              "<IPython.core.display.Javascript object>"
            ]
          },
          "metadata": {},
          "output_type": "display_data"
        }
      ],
      "source": [
        "df_tweets.to_csv('Tweets_Week6.csv', index=False)\n",
        "files.download('Tweets_Week6.csv')"
      ]
    },
    {
      "cell_type": "code",
      "execution_count": null,
      "metadata": {
        "colab": {
          "base_uri": "https://localhost:8080/"
        },
        "id": "hZApHOVUWf4R",
        "outputId": "0f7a301e-c4ca-409e-aa69-fd3a7cb38d56"
      },
      "outputs": [
        {
          "data": {
            "text/plain": [
              "(18359, 10)"
            ]
          },
          "execution_count": 6,
          "metadata": {},
          "output_type": "execute_result"
        }
      ],
      "source": [
        "df_tweets.shape"
      ]
    },
    {
      "cell_type": "markdown",
      "metadata": {
        "id": "uVjntHqm9EFH"
      },
      "source": [
        "## Unique Tweets (tweets can be duplicated if a single tweet mentions two or more brands)"
      ]
    },
    {
      "cell_type": "code",
      "execution_count": null,
      "metadata": {
        "id": "ErLWWdN8QT9a"
      },
      "outputs": [],
      "source": [
        "tweets = pd.read_csv(\"/content/Tweets_Week6.csv\")"
      ]
    },
    {
      "cell_type": "code",
      "source": [
        "tweets = pd.read_csv('/content/Tweets_Clean.csv')"
      ],
      "metadata": {
        "id": "8Hb-5RdSRpxc"
      },
      "execution_count": null,
      "outputs": []
    },
    {
      "cell_type": "code",
      "execution_count": null,
      "metadata": {
        "colab": {
          "base_uri": "https://localhost:8080/"
        },
        "id": "GiXgnx2g6tR7",
        "outputId": "9c50d5a5-c8de-432f-b3de-6e47dade0ed3"
      },
      "outputs": [
        {
          "output_type": "execute_result",
          "data": {
            "text/plain": [
              "(88365, 10)"
            ]
          },
          "metadata": {},
          "execution_count": 4
        }
      ],
      "source": [
        "tweets.shape"
      ]
    },
    {
      "cell_type": "code",
      "execution_count": null,
      "metadata": {
        "colab": {
          "base_uri": "https://localhost:8080/"
        },
        "id": "H5LOrQCM1Aed",
        "outputId": "0e76578b-c340-489d-df4d-2427027ed094"
      },
      "outputs": [
        {
          "output_type": "execute_result",
          "data": {
            "text/plain": [
              "62"
            ]
          },
          "metadata": {},
          "execution_count": 5
        }
      ],
      "source": [
        "tweets['tweet_id'].duplicated().sum()"
      ]
    },
    {
      "cell_type": "code",
      "execution_count": null,
      "metadata": {
        "id": "wV7K5Ap67AO-"
      },
      "outputs": [],
      "source": [
        "tweets_to_drop = tweets[tweets['tweet_id'].duplicated() == True]"
      ]
    },
    {
      "cell_type": "code",
      "execution_count": null,
      "metadata": {
        "colab": {
          "base_uri": "https://localhost:8080/"
        },
        "id": "fksMQn8O7Yjq",
        "outputId": "a0ab3acd-ecea-4b10-eb17-00a74f33dfd4"
      },
      "outputs": [
        {
          "output_type": "execute_result",
          "data": {
            "text/plain": [
              "(62, 10)"
            ]
          },
          "metadata": {},
          "execution_count": 7
        }
      ],
      "source": [
        "tweets_to_drop.shape"
      ]
    },
    {
      "cell_type": "code",
      "execution_count": null,
      "metadata": {
        "id": "3-cfOqqj76eS"
      },
      "outputs": [],
      "source": [
        "unique_tweets = tweets.drop(tweets_to_drop.index, axis=0)"
      ]
    },
    {
      "cell_type": "code",
      "execution_count": null,
      "metadata": {
        "colab": {
          "base_uri": "https://localhost:8080/"
        },
        "id": "ZfnqawD58YX_",
        "outputId": "fdda43da-3231-4686-bb06-d111dac87a53"
      },
      "outputs": [
        {
          "output_type": "execute_result",
          "data": {
            "text/plain": [
              "(88303, 10)"
            ]
          },
          "metadata": {},
          "execution_count": 9
        }
      ],
      "source": [
        "unique_tweets.shape"
      ]
    },
    {
      "cell_type": "code",
      "execution_count": null,
      "metadata": {
        "colab": {
          "base_uri": "https://localhost:8080/",
          "height": 17
        },
        "id": "i6_8L6h39BEH",
        "outputId": "249dc40c-23ab-4594-a2ee-fe9d90267e14"
      },
      "outputs": [
        {
          "output_type": "display_data",
          "data": {
            "text/plain": [
              "<IPython.core.display.Javascript object>"
            ],
            "application/javascript": [
              "\n",
              "    async function download(id, filename, size) {\n",
              "      if (!google.colab.kernel.accessAllowed) {\n",
              "        return;\n",
              "      }\n",
              "      const div = document.createElement('div');\n",
              "      const label = document.createElement('label');\n",
              "      label.textContent = `Downloading \"${filename}\": `;\n",
              "      div.appendChild(label);\n",
              "      const progress = document.createElement('progress');\n",
              "      progress.max = size;\n",
              "      div.appendChild(progress);\n",
              "      document.body.appendChild(div);\n",
              "\n",
              "      const buffers = [];\n",
              "      let downloaded = 0;\n",
              "\n",
              "      const channel = await google.colab.kernel.comms.open(id);\n",
              "      // Send a message to notify the kernel that we're ready.\n",
              "      channel.send({})\n",
              "\n",
              "      for await (const message of channel.messages) {\n",
              "        // Send a message to notify the kernel that we're ready.\n",
              "        channel.send({})\n",
              "        if (message.buffers) {\n",
              "          for (const buffer of message.buffers) {\n",
              "            buffers.push(buffer);\n",
              "            downloaded += buffer.byteLength;\n",
              "            progress.value = downloaded;\n",
              "          }\n",
              "        }\n",
              "      }\n",
              "      const blob = new Blob(buffers, {type: 'application/binary'});\n",
              "      const a = document.createElement('a');\n",
              "      a.href = window.URL.createObjectURL(blob);\n",
              "      a.download = filename;\n",
              "      div.appendChild(a);\n",
              "      a.click();\n",
              "      div.remove();\n",
              "    }\n",
              "  "
            ]
          },
          "metadata": {}
        },
        {
          "output_type": "display_data",
          "data": {
            "text/plain": [
              "<IPython.core.display.Javascript object>"
            ],
            "application/javascript": [
              "download(\"download_f8976a45-a641-421a-9098-98a183b11b8d\", \"Tweet.csv\", 16767408)"
            ]
          },
          "metadata": {}
        }
      ],
      "source": [
        "unique_tweets.to_csv('Tweet.csv', index=False)\n",
        "files.download('Tweet.csv')"
      ]
    },
    {
      "cell_type": "markdown",
      "metadata": {
        "id": "0qD5Xhsn9ktb"
      },
      "source": [
        "## Unique Users"
      ]
    },
    {
      "cell_type": "code",
      "execution_count": null,
      "metadata": {
        "id": "vStxJKF7-StB"
      },
      "outputs": [],
      "source": [
        "users = pd.read_csv('/content/Users_Week5.csv')\n"
      ]
    },
    {
      "cell_type": "code",
      "source": [
        "users = pd.read_csv('/content/Users_Clean.csv')"
      ],
      "metadata": {
        "colab": {
          "base_uri": "https://localhost:8080/"
        },
        "id": "e0Ft5CAlYcTF",
        "outputId": "e42b29c0-78e2-4f9b-d683-f1137040176f"
      },
      "execution_count": null,
      "outputs": [
        {
          "output_type": "stream",
          "name": "stderr",
          "text": [
            "<ipython-input-39-906bc0d8a4fd>:1: DtypeWarning: Columns (6) have mixed types. Specify dtype option on import or set low_memory=False.\n",
            "  users = pd.read_csv('/content/Users_Clean.csv')\n"
          ]
        }
      ]
    },
    {
      "cell_type": "code",
      "source": [
        "users.shape"
      ],
      "metadata": {
        "colab": {
          "base_uri": "https://localhost:8080/"
        },
        "id": "mi9BZqAfYml2",
        "outputId": "80e2de86-718d-4dad-d6e5-5678637c8c09"
      },
      "execution_count": null,
      "outputs": [
        {
          "output_type": "execute_result",
          "data": {
            "text/plain": [
              "(68475, 12)"
            ]
          },
          "metadata": {},
          "execution_count": 40
        }
      ]
    },
    {
      "cell_type": "code",
      "execution_count": null,
      "metadata": {
        "id": "qX7hZWDeg2p5"
      },
      "outputs": [],
      "source": [
        "# users = tweets['user_id']"
      ]
    },
    {
      "cell_type": "code",
      "execution_count": null,
      "metadata": {
        "colab": {
          "base_uri": "https://localhost:8080/"
        },
        "id": "13J1Jk_H-afg",
        "outputId": "cd602afa-6d63-40af-83c7-0d8dd7b1fcfc"
      },
      "outputs": [
        {
          "data": {
            "text/plain": [
              "(18085,)"
            ]
          },
          "execution_count": 30,
          "metadata": {},
          "output_type": "execute_result"
        }
      ],
      "source": [
        "# users.shape"
      ]
    },
    {
      "cell_type": "code",
      "execution_count": null,
      "metadata": {
        "colab": {
          "base_uri": "https://localhost:8080/"
        },
        "id": "ShnAmQP8g6yL",
        "outputId": "2cf7d9cc-ceaa-4acb-8cf6-8077c32ac634"
      },
      "outputs": [
        {
          "data": {
            "text/plain": [
              "4464"
            ]
          },
          "execution_count": 31,
          "metadata": {},
          "output_type": "execute_result"
        }
      ],
      "source": [
        "# users.duplicated().sum()"
      ]
    },
    {
      "cell_type": "code",
      "execution_count": null,
      "metadata": {
        "id": "i5_NVv_5g-Tu"
      },
      "outputs": [],
      "source": [
        "# users_to_drop = users[users.duplicated() == True]"
      ]
    },
    {
      "cell_type": "code",
      "execution_count": null,
      "metadata": {
        "colab": {
          "base_uri": "https://localhost:8080/"
        },
        "id": "IxRJM3R0hEki",
        "outputId": "ea060faf-33f4-4d86-bbdb-9378b11b469a"
      },
      "outputs": [
        {
          "data": {
            "text/plain": [
              "(4464,)"
            ]
          },
          "execution_count": 33,
          "metadata": {},
          "output_type": "execute_result"
        }
      ],
      "source": [
        "# users_to_drop.shape"
      ]
    },
    {
      "cell_type": "code",
      "execution_count": null,
      "metadata": {
        "id": "ppynjClOhEsh"
      },
      "outputs": [],
      "source": [
        "# unique_users = users.drop(users_to_drop.index, axis=0)"
      ]
    },
    {
      "cell_type": "code",
      "execution_count": null,
      "metadata": {
        "colab": {
          "base_uri": "https://localhost:8080/"
        },
        "id": "sk3SCYsAhExt",
        "outputId": "64373711-d6ca-413b-8fd4-b400c72449a2"
      },
      "outputs": [
        {
          "data": {
            "text/plain": [
              "(13621,)"
            ]
          },
          "execution_count": 35,
          "metadata": {},
          "output_type": "execute_result"
        }
      ],
      "source": [
        "# unique_users.shape"
      ]
    },
    {
      "cell_type": "code",
      "execution_count": null,
      "metadata": {
        "colab": {
          "base_uri": "https://localhost:8080/",
          "height": 17
        },
        "id": "JYLhkLmIh2fs",
        "outputId": "7933b230-22f7-49d0-ba8a-ef57f23a9336"
      },
      "outputs": [
        {
          "data": {
            "application/javascript": [
              "\n",
              "    async function download(id, filename, size) {\n",
              "      if (!google.colab.kernel.accessAllowed) {\n",
              "        return;\n",
              "      }\n",
              "      const div = document.createElement('div');\n",
              "      const label = document.createElement('label');\n",
              "      label.textContent = `Downloading \"${filename}\": `;\n",
              "      div.appendChild(label);\n",
              "      const progress = document.createElement('progress');\n",
              "      progress.max = size;\n",
              "      div.appendChild(progress);\n",
              "      document.body.appendChild(div);\n",
              "\n",
              "      const buffers = [];\n",
              "      let downloaded = 0;\n",
              "\n",
              "      const channel = await google.colab.kernel.comms.open(id);\n",
              "      // Send a message to notify the kernel that we're ready.\n",
              "      channel.send({})\n",
              "\n",
              "      for await (const message of channel.messages) {\n",
              "        // Send a message to notify the kernel that we're ready.\n",
              "        channel.send({})\n",
              "        if (message.buffers) {\n",
              "          for (const buffer of message.buffers) {\n",
              "            buffers.push(buffer);\n",
              "            downloaded += buffer.byteLength;\n",
              "            progress.value = downloaded;\n",
              "          }\n",
              "        }\n",
              "      }\n",
              "      const blob = new Blob(buffers, {type: 'application/binary'});\n",
              "      const a = document.createElement('a');\n",
              "      a.href = window.URL.createObjectURL(blob);\n",
              "      a.download = filename;\n",
              "      div.appendChild(a);\n",
              "      a.click();\n",
              "      div.remove();\n",
              "    }\n",
              "  "
            ],
            "text/plain": [
              "<IPython.core.display.Javascript object>"
            ]
          },
          "metadata": {},
          "output_type": "display_data"
        },
        {
          "data": {
            "application/javascript": [
              "download(\"download_ec4cf112-631b-48d9-9078-77d52e362595\", \"Users_Week5.csv\", 212184)"
            ],
            "text/plain": [
              "<IPython.core.display.Javascript object>"
            ]
          },
          "metadata": {},
          "output_type": "display_data"
        }
      ],
      "source": [
        "# unique_users.to_csv('Users_Week5.csv', index=False)\n",
        "# files.download('Users_Week5.csv')"
      ]
    },
    {
      "cell_type": "code",
      "execution_count": null,
      "metadata": {
        "colab": {
          "base_uri": "https://localhost:8080/"
        },
        "id": "ER01kD30-oD-",
        "outputId": "2ed08421-ec70-400f-8d3f-2d93d6d5817e"
      },
      "outputs": [
        {
          "output_type": "execute_result",
          "data": {
            "text/plain": [
              "3739"
            ]
          },
          "metadata": {},
          "execution_count": 41
        }
      ],
      "source": [
        "users['user_id'].duplicated().sum()"
      ]
    },
    {
      "cell_type": "code",
      "execution_count": null,
      "metadata": {
        "id": "WsfB3vGWVVvM"
      },
      "outputs": [],
      "source": [
        "users_to_drop = users[users['user_id'].duplicated() == True]"
      ]
    },
    {
      "cell_type": "code",
      "execution_count": null,
      "metadata": {
        "colab": {
          "base_uri": "https://localhost:8080/"
        },
        "id": "b-6a5mkf_yH3",
        "outputId": "5fc96ff1-173e-4a6f-856e-91d4cf879530"
      },
      "outputs": [
        {
          "output_type": "execute_result",
          "data": {
            "text/plain": [
              "(3739, 12)"
            ]
          },
          "metadata": {},
          "execution_count": 43
        }
      ],
      "source": [
        "users_to_drop.shape"
      ]
    },
    {
      "cell_type": "code",
      "execution_count": null,
      "metadata": {
        "id": "91kAYOPq_zhv"
      },
      "outputs": [],
      "source": [
        "unique_users = users.drop(users_to_drop.index, axis=0)"
      ]
    },
    {
      "cell_type": "code",
      "execution_count": null,
      "metadata": {
        "id": "Bc7x2Ps1Ep8G"
      },
      "outputs": [],
      "source": [
        "#utf-8\n",
        "unique_users = unique_users.astype(str).apply(lambda x: x.str.encode('ascii', 'ignore').str.decode('ascii'))"
      ]
    },
    {
      "cell_type": "code",
      "execution_count": null,
      "metadata": {
        "colab": {
          "base_uri": "https://localhost:8080/"
        },
        "id": "3Te6FSyebdse",
        "outputId": "d4a5f8b1-66c7-4b92-bce6-f71cfd2393ba"
      },
      "outputs": [
        {
          "output_type": "execute_result",
          "data": {
            "text/plain": [
              "(64736, 12)"
            ]
          },
          "metadata": {},
          "execution_count": 46
        }
      ],
      "source": [
        "unique_users.shape"
      ]
    },
    {
      "cell_type": "code",
      "source": [
        "unique_users['user_id'].duplicated().sum()"
      ],
      "metadata": {
        "colab": {
          "base_uri": "https://localhost:8080/"
        },
        "id": "cFUxuKVujapR",
        "outputId": "e6dabedb-a68c-43c5-cd2d-8b8561b4cffd"
      },
      "execution_count": null,
      "outputs": [
        {
          "output_type": "execute_result",
          "data": {
            "text/plain": [
              "0"
            ]
          },
          "metadata": {},
          "execution_count": 47
        }
      ]
    },
    {
      "cell_type": "code",
      "source": [
        "users = unique_users"
      ],
      "metadata": {
        "id": "Kq6fvv66YuAq"
      },
      "execution_count": null,
      "outputs": []
    },
    {
      "cell_type": "code",
      "execution_count": null,
      "metadata": {
        "colab": {
          "base_uri": "https://localhost:8080/",
          "height": 17
        },
        "id": "HbeBwIdq_84d",
        "outputId": "0581ba04-8536-4818-a39e-73acd5ef2412"
      },
      "outputs": [
        {
          "data": {
            "application/javascript": [
              "\n",
              "    async function download(id, filename, size) {\n",
              "      if (!google.colab.kernel.accessAllowed) {\n",
              "        return;\n",
              "      }\n",
              "      const div = document.createElement('div');\n",
              "      const label = document.createElement('label');\n",
              "      label.textContent = `Downloading \"${filename}\": `;\n",
              "      div.appendChild(label);\n",
              "      const progress = document.createElement('progress');\n",
              "      progress.max = size;\n",
              "      div.appendChild(progress);\n",
              "      document.body.appendChild(div);\n",
              "\n",
              "      const buffers = [];\n",
              "      let downloaded = 0;\n",
              "\n",
              "      const channel = await google.colab.kernel.comms.open(id);\n",
              "      // Send a message to notify the kernel that we're ready.\n",
              "      channel.send({})\n",
              "\n",
              "      for await (const message of channel.messages) {\n",
              "        // Send a message to notify the kernel that we're ready.\n",
              "        channel.send({})\n",
              "        if (message.buffers) {\n",
              "          for (const buffer of message.buffers) {\n",
              "            buffers.push(buffer);\n",
              "            downloaded += buffer.byteLength;\n",
              "            progress.value = downloaded;\n",
              "          }\n",
              "        }\n",
              "      }\n",
              "      const blob = new Blob(buffers, {type: 'application/binary'});\n",
              "      const a = document.createElement('a');\n",
              "      a.href = window.URL.createObjectURL(blob);\n",
              "      a.download = filename;\n",
              "      div.appendChild(a);\n",
              "      a.click();\n",
              "      div.remove();\n",
              "    }\n",
              "  "
            ],
            "text/plain": [
              "<IPython.core.display.Javascript object>"
            ]
          },
          "metadata": {},
          "output_type": "display_data"
        },
        {
          "data": {
            "application/javascript": [
              "download(\"download_aa6c3a8a-0d56-4aca-a650-97b8fee1b4a2\", \"Users_Week4.csv\", 2064213)"
            ],
            "text/plain": [
              "<IPython.core.display.Javascript object>"
            ]
          },
          "metadata": {},
          "output_type": "display_data"
        }
      ],
      "source": [
        "unique_users.to_csv('Users_Week4.csv', index=False)\n",
        "files.download('Users_Week4.csv')"
      ]
    },
    {
      "cell_type": "markdown",
      "metadata": {
        "id": "T_-vRoOsQ6UW"
      },
      "source": [
        "##Check if everything is collected"
      ]
    },
    {
      "cell_type": "code",
      "execution_count": null,
      "metadata": {
        "id": "6Vy6YvCMgnpR"
      },
      "outputs": [],
      "source": []
    },
    {
      "cell_type": "code",
      "execution_count": null,
      "metadata": {
        "colab": {
          "base_uri": "https://localhost:8080/"
        },
        "id": "tr0m6I3JDedW",
        "outputId": "7a43e292-09ad-4ed4-8f8e-abac315218d5"
      },
      "outputs": [
        {
          "data": {
            "text/plain": [
              "dtype('int64')"
            ]
          },
          "execution_count": 7,
          "metadata": {},
          "output_type": "execute_result"
        }
      ],
      "source": [
        "tweets['user_id'].dtype"
      ]
    },
    {
      "cell_type": "code",
      "execution_count": null,
      "metadata": {
        "colab": {
          "base_uri": "https://localhost:8080/"
        },
        "id": "EqoXmYkSDgoL",
        "outputId": "3edf72e1-98c6-48bd-975f-57691f4e6055"
      },
      "outputs": [
        {
          "data": {
            "text/plain": [
              "dtype('int64')"
            ]
          },
          "execution_count": 8,
          "metadata": {},
          "output_type": "execute_result"
        }
      ],
      "source": [
        "users['user_id'].dtype"
      ]
    },
    {
      "cell_type": "code",
      "execution_count": null,
      "metadata": {
        "id": "PjwNX7xlQyWN"
      },
      "outputs": [],
      "source": [
        "not_collected = []\n",
        "\n",
        "# Loop through values in user_id column of tweet dataset\n",
        "for value in tweets['user_id']:\n",
        "    # Check if the value is in any row of user_id column of users dataset\n",
        "    if not users['user_id'].isin([value]).any():\n",
        "        # If the value is not in any row of user_id column of users dataset, add it to the list\n",
        "        not_collected.append(value)"
      ]
    },
    {
      "cell_type": "code",
      "execution_count": null,
      "metadata": {
        "id": "ARLBnMTYAeHh"
      },
      "outputs": [],
      "source": [
        "not_collected = pd.DataFrame(np.array(not_collected))"
      ]
    },
    {
      "cell_type": "code",
      "execution_count": null,
      "metadata": {
        "colab": {
          "base_uri": "https://localhost:8080/"
        },
        "id": "DoobF4NWBsQi",
        "outputId": "c31b3376-fb79-4d7d-f8f2-92c184150878"
      },
      "outputs": [
        {
          "data": {
            "text/plain": [
              "(40, 1)"
            ]
          },
          "execution_count": 11,
          "metadata": {},
          "output_type": "execute_result"
        }
      ],
      "source": [
        "not_collected.shape"
      ]
    },
    {
      "cell_type": "code",
      "execution_count": null,
      "metadata": {
        "colab": {
          "base_uri": "https://localhost:8080/"
        },
        "id": "6OSkUaICKWOi",
        "outputId": "45fc9acd-ac3f-479b-9a48-37cc6afd9df3"
      },
      "outputs": [
        {
          "data": {
            "text/plain": [
              "11"
            ]
          },
          "execution_count": 12,
          "metadata": {},
          "output_type": "execute_result"
        }
      ],
      "source": [
        "not_collected.duplicated().sum()"
      ]
    },
    {
      "cell_type": "code",
      "execution_count": null,
      "metadata": {
        "id": "icHh14S0J90I"
      },
      "outputs": [],
      "source": [
        "not_collected = not_collected.drop_duplicates()"
      ]
    },
    {
      "cell_type": "code",
      "execution_count": null,
      "metadata": {
        "colab": {
          "base_uri": "https://localhost:8080/"
        },
        "id": "OtVisGhQKSS-",
        "outputId": "82d073be-7f13-4843-8ac3-0a157a815881"
      },
      "outputs": [
        {
          "data": {
            "text/plain": [
              "(29, 1)"
            ]
          },
          "execution_count": 14,
          "metadata": {},
          "output_type": "execute_result"
        }
      ],
      "source": [
        "not_collected.shape"
      ]
    },
    {
      "cell_type": "code",
      "execution_count": null,
      "metadata": {
        "colab": {
          "base_uri": "https://localhost:8080/"
        },
        "id": "DGcoWXGoKtQR",
        "outputId": "bbec09a0-07db-424b-a856-4626ad95a314"
      },
      "outputs": [
        {
          "name": "stdout",
          "output_type": "stream",
          "text": [
            "Duplicated Users in Tweets (which is okay) =  4464\n",
            "Duplicated Users (which should be 0) =  0\n",
            "No. of Unique UsersIDs in the Tweets Dataset =  13621\n",
            "No. of Users Collected =  13592\n",
            "No. of Users NOT Collected =  29\n",
            "Sum =  13621\n"
          ]
        }
      ],
      "source": [
        "duplicated_users_in_tweets = tweets['user_id'].duplicated().sum()\n",
        "duplicated_users = users['user_id'].duplicated().sum()\n",
        "unique_users_in_tweets = len(tweets) - duplicated_users_in_tweets\n",
        "users_collected = len(users)\n",
        "users_not_collected = len(not_collected)\n",
        "sum = (len(users) + len(not_collected))\n",
        "\n",
        "print ('Duplicated Users in Tweets (which is okay) = ', duplicated_users_in_tweets)\n",
        "print ('Duplicated Users (which should be 0) = ', duplicated_users)\n",
        "print ('No. of Unique UsersIDs in the Tweets Dataset = ', unique_users_in_tweets)\n",
        "print ('No. of Users Collected = ', users_collected)\n",
        "print ('No. of Users NOT Collected = ', users_not_collected)\n",
        "print ('Sum = ', sum)"
      ]
    },
    {
      "cell_type": "code",
      "execution_count": null,
      "metadata": {
        "colab": {
          "base_uri": "https://localhost:8080/",
          "height": 17
        },
        "id": "hWT8KMb7Abk_",
        "outputId": "05c41998-5439-46c0-98e1-044923d807db"
      },
      "outputs": [
        {
          "data": {
            "application/javascript": [
              "\n",
              "    async function download(id, filename, size) {\n",
              "      if (!google.colab.kernel.accessAllowed) {\n",
              "        return;\n",
              "      }\n",
              "      const div = document.createElement('div');\n",
              "      const label = document.createElement('label');\n",
              "      label.textContent = `Downloading \"${filename}\": `;\n",
              "      div.appendChild(label);\n",
              "      const progress = document.createElement('progress');\n",
              "      progress.max = size;\n",
              "      div.appendChild(progress);\n",
              "      document.body.appendChild(div);\n",
              "\n",
              "      const buffers = [];\n",
              "      let downloaded = 0;\n",
              "\n",
              "      const channel = await google.colab.kernel.comms.open(id);\n",
              "      // Send a message to notify the kernel that we're ready.\n",
              "      channel.send({})\n",
              "\n",
              "      for await (const message of channel.messages) {\n",
              "        // Send a message to notify the kernel that we're ready.\n",
              "        channel.send({})\n",
              "        if (message.buffers) {\n",
              "          for (const buffer of message.buffers) {\n",
              "            buffers.push(buffer);\n",
              "            downloaded += buffer.byteLength;\n",
              "            progress.value = downloaded;\n",
              "          }\n",
              "        }\n",
              "      }\n",
              "      const blob = new Blob(buffers, {type: 'application/binary'});\n",
              "      const a = document.createElement('a');\n",
              "      a.href = window.URL.createObjectURL(blob);\n",
              "      a.download = filename;\n",
              "      div.appendChild(a);\n",
              "      a.click();\n",
              "      div.remove();\n",
              "    }\n",
              "  "
            ],
            "text/plain": [
              "<IPython.core.display.Javascript object>"
            ]
          },
          "metadata": {},
          "output_type": "display_data"
        },
        {
          "data": {
            "application/javascript": [
              "download(\"download_09a760f4-1c41-4c04-b86d-d91560a9f9dc\", \"UsersNotCollectedWeek5.csv\", 532)"
            ],
            "text/plain": [
              "<IPython.core.display.Javascript object>"
            ]
          },
          "metadata": {},
          "output_type": "display_data"
        }
      ],
      "source": [
        "not_collected.to_csv('UsersNotCollectedWeek5.csv', index=False)\n",
        "files.download('UsersNotCollectedWeek5.csv')"
      ]
    },
    {
      "cell_type": "markdown",
      "metadata": {
        "id": "nAhYb6CqjGJb"
      },
      "source": [
        "##Removing tweets whose user data does not exist"
      ]
    },
    {
      "cell_type": "code",
      "execution_count": null,
      "metadata": {
        "id": "PISjQHOnQVTR",
        "colab": {
          "base_uri": "https://localhost:8080/"
        },
        "outputId": "c5569c8a-b058-425c-c0bb-c89ac142f76b"
      },
      "outputs": [
        {
          "output_type": "stream",
          "name": "stderr",
          "text": [
            "<ipython-input-60-9c65b9b2129f>:2: DtypeWarning: Columns (6) have mixed types. Specify dtype option on import or set low_memory=False.\n",
            "  users = pd.read_csv('/content/Users_Clean.csv')\n"
          ]
        }
      ],
      "source": [
        "tweets = pd.read_csv('/content/Tweets_Clean.csv')\n",
        "users = pd.read_csv('/content/Users_Clean.csv')"
      ]
    },
    {
      "cell_type": "code",
      "source": [
        "tweets.shape"
      ],
      "metadata": {
        "colab": {
          "base_uri": "https://localhost:8080/"
        },
        "id": "i7mm__ezmse6",
        "outputId": "ed2b1058-6c0b-46b6-f159-cba623474a82"
      },
      "execution_count": null,
      "outputs": [
        {
          "output_type": "execute_result",
          "data": {
            "text/plain": [
              "(106075, 10)"
            ]
          },
          "metadata": {},
          "execution_count": 61
        }
      ]
    },
    {
      "cell_type": "code",
      "source": [
        "users.shape"
      ],
      "metadata": {
        "colab": {
          "base_uri": "https://localhost:8080/"
        },
        "id": "TIWlrotdmu65",
        "outputId": "57d80337-205f-4d8a-aa87-c82f6f21bd74"
      },
      "execution_count": null,
      "outputs": [
        {
          "output_type": "execute_result",
          "data": {
            "text/plain": [
              "(68475, 12)"
            ]
          },
          "metadata": {},
          "execution_count": 62
        }
      ]
    },
    {
      "cell_type": "code",
      "source": [
        "valid_users = tweets[tweets['user_id'].isin(users['user_id'])]"
      ],
      "metadata": {
        "id": "ArtLmSpEknop"
      },
      "execution_count": null,
      "outputs": []
    },
    {
      "cell_type": "code",
      "source": [
        "valid_users.shape"
      ],
      "metadata": {
        "colab": {
          "base_uri": "https://localhost:8080/"
        },
        "id": "SAVc7mt0mZKu",
        "outputId": "2a878302-8712-4513-f10c-98253fea9cf9"
      },
      "execution_count": null,
      "outputs": [
        {
          "output_type": "execute_result",
          "data": {
            "text/plain": [
              "(88365, 10)"
            ]
          },
          "metadata": {},
          "execution_count": 64
        }
      ]
    },
    {
      "cell_type": "code",
      "execution_count": null,
      "metadata": {
        "colab": {
          "base_uri": "https://localhost:8080/",
          "height": 17
        },
        "id": "ifStlm5UjKF1",
        "outputId": "97f648c7-05f5-4fd3-8c23-cd7990458f90"
      },
      "outputs": [
        {
          "output_type": "display_data",
          "data": {
            "text/plain": [
              "<IPython.core.display.Javascript object>"
            ],
            "application/javascript": [
              "\n",
              "    async function download(id, filename, size) {\n",
              "      if (!google.colab.kernel.accessAllowed) {\n",
              "        return;\n",
              "      }\n",
              "      const div = document.createElement('div');\n",
              "      const label = document.createElement('label');\n",
              "      label.textContent = `Downloading \"${filename}\": `;\n",
              "      div.appendChild(label);\n",
              "      const progress = document.createElement('progress');\n",
              "      progress.max = size;\n",
              "      div.appendChild(progress);\n",
              "      document.body.appendChild(div);\n",
              "\n",
              "      const buffers = [];\n",
              "      let downloaded = 0;\n",
              "\n",
              "      const channel = await google.colab.kernel.comms.open(id);\n",
              "      // Send a message to notify the kernel that we're ready.\n",
              "      channel.send({})\n",
              "\n",
              "      for await (const message of channel.messages) {\n",
              "        // Send a message to notify the kernel that we're ready.\n",
              "        channel.send({})\n",
              "        if (message.buffers) {\n",
              "          for (const buffer of message.buffers) {\n",
              "            buffers.push(buffer);\n",
              "            downloaded += buffer.byteLength;\n",
              "            progress.value = downloaded;\n",
              "          }\n",
              "        }\n",
              "      }\n",
              "      const blob = new Blob(buffers, {type: 'application/binary'});\n",
              "      const a = document.createElement('a');\n",
              "      a.href = window.URL.createObjectURL(blob);\n",
              "      a.download = filename;\n",
              "      div.appendChild(a);\n",
              "      a.click();\n",
              "      div.remove();\n",
              "    }\n",
              "  "
            ]
          },
          "metadata": {}
        },
        {
          "output_type": "display_data",
          "data": {
            "text/plain": [
              "<IPython.core.display.Javascript object>"
            ],
            "application/javascript": [
              "download(\"download_3ad3d6bd-23b5-4f36-8bfb-4d6aa6bfd59c\", \"Tweets_Clean.csv\", 16425011)"
            ]
          },
          "metadata": {}
        }
      ],
      "source": [
        "valid_users.to_csv('Tweets_Clean.csv', index=False)\n",
        "files.download('Tweets_Clean.csv')"
      ]
    },
    {
      "cell_type": "markdown",
      "metadata": {
        "id": "P0JR9FQ3ubl6"
      },
      "source": [
        "## Cleaning"
      ]
    },
    {
      "cell_type": "markdown",
      "metadata": {
        "id": "WDHx-6LPpbzB"
      },
      "source": [
        "###Tweets"
      ]
    },
    {
      "cell_type": "code",
      "execution_count": null,
      "metadata": {
        "id": "ZTBYeQL5xye6"
      },
      "outputs": [],
      "source": [
        "df_tweets1 = pd.read_csv('/content/Tweets_Week1.csv')\n",
        "df_tweets2 = pd.read_csv('/content/Tweets_Week2.csv')\n",
        "df_tweets3 = pd.read_csv('/content/Tweets_Week3.csv')\n",
        "df_tweets4 = pd.read_csv('/content/Tweets_Week4.csv')\n",
        "df_tweets5 = pd.read_csv('/content/Tweets_Week5.csv')\n",
        "df_tweets6 = pd.read_csv('/content/Tweets_Week6.csv')\n",
        "df_tweets = pd.concat([df_tweets1, df_tweets2, df_tweets3, df_tweets4, df_tweets5, df_tweets6], axis = 0)"
      ]
    },
    {
      "cell_type": "code",
      "source": [],
      "metadata": {
        "id": "1PvcmXcURaqp"
      },
      "execution_count": null,
      "outputs": []
    },
    {
      "cell_type": "code",
      "execution_count": null,
      "metadata": {
        "colab": {
          "base_uri": "https://localhost:8080/"
        },
        "id": "bQBcnXCKUbAB",
        "outputId": "abcaf370-f049-4b0c-f208-4956d462401c"
      },
      "outputs": [
        {
          "output_type": "execute_result",
          "data": {
            "text/plain": [
              "(106075, 4)"
            ]
          },
          "metadata": {},
          "execution_count": 3
        }
      ],
      "source": [
        "df_tweets.shape"
      ]
    },
    {
      "cell_type": "code",
      "execution_count": null,
      "metadata": {
        "id": "Q2R1R_NuUbLf"
      },
      "outputs": [],
      "source": [
        "df_tweets"
      ]
    },
    {
      "cell_type": "code",
      "execution_count": null,
      "metadata": {
        "id": "Q64-R-x9ZZfJ"
      },
      "outputs": [],
      "source": [
        "#utf-8\n",
        "df_tweets = df_tweets.astype(str).apply(lambda x: x.str.encode('ascii', 'ignore').str.decode('ascii'))\n",
        "\n",
        "#lower case letters\n",
        "df_tweets['text'] = df_tweets['text'].str.lower()"
      ]
    },
    {
      "cell_type": "code",
      "execution_count": null,
      "metadata": {
        "id": "t-dC-DRvpa0B"
      },
      "outputs": [],
      "source": [
        "#remove newlines, whitespace, punctuation, @, and links\n",
        "import re\n",
        "\n",
        "url_pattern = r\"http[s]?://(?:[a-zA-Z]|[0-9]|[$-_@.&+]|[!*\\(\\),]|(?:%[0-9a-fA-F][0-9a-fA-F]))+\"\n",
        "at_pattern = r\"@\\w+\"\n",
        "rt = \"rt :\"\n",
        "new_line = \"\\n\"\n",
        "punct_pattern = r\"[^\\w\\s]\"\n",
        "spaces_pattern = r\"\\s+\"\n",
        "hashtag = r'#\\w+'\n",
        "\n",
        "\n",
        "def remove_urls_and_at(text):\n",
        "    text = re.sub(url_pattern, \"\", text)\n",
        "    text = re.sub(at_pattern, \"\", text)\n",
        "    text = re.sub(rt, \"\", text)\n",
        "    text = re.sub(new_line, \"\", text)\n",
        "    text = re.sub(punct_pattern, \"\", text)\n",
        "    text = re.sub(hashtag, \" \", text)\n",
        "    text = re.sub(spaces_pattern, \" \", text)\n",
        "    return text\n",
        "\n",
        "\n",
        "# Apply the function to the 'text' column using DataFrame.apply()\n",
        "df_tweets['text'] = df_tweets['text'].apply(remove_urls_and_at)\n",
        "\n",
        "#df_tweets['text'] = df_tweets['text'].str.replace('http[s]?://(?:[a-zA-Z]|[0-9]|[$-_@.&+]|[!*\\(\\),]|(?:%[0-9a-fA-F][0-9a-fA-F]))+', '')"
      ]
    },
    {
      "cell_type": "code",
      "execution_count": null,
      "metadata": {
        "colab": {
          "base_uri": "https://localhost:8080/",
          "height": 625
        },
        "id": "BTsOyYEeqkTY",
        "outputId": "8205e44f-2ace-413c-91fb-544bf08edba1"
      },
      "outputs": [
        {
          "data": {
            "text/html": [
              "\n",
              "  <div id=\"df-1aab0210-d2d5-42af-8a45-ae22d3016292\">\n",
              "    <div class=\"colab-df-container\">\n",
              "      <div>\n",
              "<style scoped>\n",
              "    .dataframe tbody tr th:only-of-type {\n",
              "        vertical-align: middle;\n",
              "    }\n",
              "\n",
              "    .dataframe tbody tr th {\n",
              "        vertical-align: top;\n",
              "    }\n",
              "\n",
              "    .dataframe thead th {\n",
              "        text-align: right;\n",
              "    }\n",
              "</style>\n",
              "<table border=\"1\" class=\"dataframe\">\n",
              "  <thead>\n",
              "    <tr style=\"text-align: right;\">\n",
              "      <th></th>\n",
              "      <th>tweet_id</th>\n",
              "      <th>user_id</th>\n",
              "      <th>date_posted</th>\n",
              "      <th>retweet_count</th>\n",
              "      <th>reply_count</th>\n",
              "      <th>like_count</th>\n",
              "      <th>quotetweet_count</th>\n",
              "      <th>impression_count</th>\n",
              "      <th>text</th>\n",
              "      <th>mentions</th>\n",
              "    </tr>\n",
              "  </thead>\n",
              "  <tbody>\n",
              "    <tr>\n",
              "      <th>0</th>\n",
              "      <td>1622459787781840900</td>\n",
              "      <td>1407502243147005953</td>\n",
              "      <td>2023-02-06T04:58:51.000Z</td>\n",
              "      <td>5</td>\n",
              "      <td>1</td>\n",
              "      <td>28</td>\n",
              "      <td>0</td>\n",
              "      <td>794</td>\n",
              "      <td>noel i got you starbucks ocean the drink</td>\n",
              "      <td>Starbucks</td>\n",
              "    </tr>\n",
              "    <tr>\n",
              "      <th>1</th>\n",
              "      <td>1622459776083828736</td>\n",
              "      <td>1596207409948762112</td>\n",
              "      <td>2023-02-06T04:58:49.000Z</td>\n",
              "      <td>2</td>\n",
              "      <td>0</td>\n",
              "      <td>0</td>\n",
              "      <td>0</td>\n",
              "      <td>0</td>\n",
              "      <td>whos buying mommy her starbucks this morning ...</td>\n",
              "      <td>Starbucks</td>\n",
              "    </tr>\n",
              "    <tr>\n",
              "      <th>2</th>\n",
              "      <td>1622459674955218949</td>\n",
              "      <td>1279461628816371713</td>\n",
              "      <td>2023-02-06T04:58:25.000Z</td>\n",
              "      <td>48</td>\n",
              "      <td>0</td>\n",
              "      <td>0</td>\n",
              "      <td>0</td>\n",
              "      <td>0</td>\n",
              "      <td>2 girls with remote vibrators going through a...</td>\n",
              "      <td>Starbucks</td>\n",
              "    </tr>\n",
              "    <tr>\n",
              "      <th>3</th>\n",
              "      <td>1622459637801811968</td>\n",
              "      <td>1320733420545343488</td>\n",
              "      <td>2023-02-06T04:58:16.000Z</td>\n",
              "      <td>0</td>\n",
              "      <td>1</td>\n",
              "      <td>1</td>\n",
              "      <td>0</td>\n",
              "      <td>18</td>\n",
              "      <td>i think hes just that dumbguess the dude got ...</td>\n",
              "      <td>Starbucks</td>\n",
              "    </tr>\n",
              "    <tr>\n",
              "      <th>4</th>\n",
              "      <td>1622459620446076928</td>\n",
              "      <td>1604704875186905089</td>\n",
              "      <td>2023-02-06T04:58:12.000Z</td>\n",
              "      <td>2</td>\n",
              "      <td>0</td>\n",
              "      <td>0</td>\n",
              "      <td>0</td>\n",
              "      <td>0</td>\n",
              "      <td>polygon has won massmarket attention thanks t...</td>\n",
              "      <td>Starbucks</td>\n",
              "    </tr>\n",
              "  </tbody>\n",
              "</table>\n",
              "</div>\n",
              "      <button class=\"colab-df-convert\" onclick=\"convertToInteractive('df-1aab0210-d2d5-42af-8a45-ae22d3016292')\"\n",
              "              title=\"Convert this dataframe to an interactive table.\"\n",
              "              style=\"display:none;\">\n",
              "        \n",
              "  <svg xmlns=\"http://www.w3.org/2000/svg\" height=\"24px\"viewBox=\"0 0 24 24\"\n",
              "       width=\"24px\">\n",
              "    <path d=\"M0 0h24v24H0V0z\" fill=\"none\"/>\n",
              "    <path d=\"M18.56 5.44l.94 2.06.94-2.06 2.06-.94-2.06-.94-.94-2.06-.94 2.06-2.06.94zm-11 1L8.5 8.5l.94-2.06 2.06-.94-2.06-.94L8.5 2.5l-.94 2.06-2.06.94zm10 10l.94 2.06.94-2.06 2.06-.94-2.06-.94-.94-2.06-.94 2.06-2.06.94z\"/><path d=\"M17.41 7.96l-1.37-1.37c-.4-.4-.92-.59-1.43-.59-.52 0-1.04.2-1.43.59L10.3 9.45l-7.72 7.72c-.78.78-.78 2.05 0 2.83L4 21.41c.39.39.9.59 1.41.59.51 0 1.02-.2 1.41-.59l7.78-7.78 2.81-2.81c.8-.78.8-2.07 0-2.86zM5.41 20L4 18.59l7.72-7.72 1.47 1.35L5.41 20z\"/>\n",
              "  </svg>\n",
              "      </button>\n",
              "      \n",
              "  <style>\n",
              "    .colab-df-container {\n",
              "      display:flex;\n",
              "      flex-wrap:wrap;\n",
              "      gap: 12px;\n",
              "    }\n",
              "\n",
              "    .colab-df-convert {\n",
              "      background-color: #E8F0FE;\n",
              "      border: none;\n",
              "      border-radius: 50%;\n",
              "      cursor: pointer;\n",
              "      display: none;\n",
              "      fill: #1967D2;\n",
              "      height: 32px;\n",
              "      padding: 0 0 0 0;\n",
              "      width: 32px;\n",
              "    }\n",
              "\n",
              "    .colab-df-convert:hover {\n",
              "      background-color: #E2EBFA;\n",
              "      box-shadow: 0px 1px 2px rgba(60, 64, 67, 0.3), 0px 1px 3px 1px rgba(60, 64, 67, 0.15);\n",
              "      fill: #174EA6;\n",
              "    }\n",
              "\n",
              "    [theme=dark] .colab-df-convert {\n",
              "      background-color: #3B4455;\n",
              "      fill: #D2E3FC;\n",
              "    }\n",
              "\n",
              "    [theme=dark] .colab-df-convert:hover {\n",
              "      background-color: #434B5C;\n",
              "      box-shadow: 0px 1px 3px 1px rgba(0, 0, 0, 0.15);\n",
              "      filter: drop-shadow(0px 1px 2px rgba(0, 0, 0, 0.3));\n",
              "      fill: #FFFFFF;\n",
              "    }\n",
              "  </style>\n",
              "\n",
              "      <script>\n",
              "        const buttonEl =\n",
              "          document.querySelector('#df-1aab0210-d2d5-42af-8a45-ae22d3016292 button.colab-df-convert');\n",
              "        buttonEl.style.display =\n",
              "          google.colab.kernel.accessAllowed ? 'block' : 'none';\n",
              "\n",
              "        async function convertToInteractive(key) {\n",
              "          const element = document.querySelector('#df-1aab0210-d2d5-42af-8a45-ae22d3016292');\n",
              "          const dataTable =\n",
              "            await google.colab.kernel.invokeFunction('convertToInteractive',\n",
              "                                                     [key], {});\n",
              "          if (!dataTable) return;\n",
              "\n",
              "          const docLinkHtml = 'Like what you see? Visit the ' +\n",
              "            '<a target=\"_blank\" href=https://colab.research.google.com/notebooks/data_table.ipynb>data table notebook</a>'\n",
              "            + ' to learn more about interactive tables.';\n",
              "          element.innerHTML = '';\n",
              "          dataTable['output_type'] = 'display_data';\n",
              "          await google.colab.output.renderOutput(dataTable, element);\n",
              "          const docLink = document.createElement('div');\n",
              "          docLink.innerHTML = docLinkHtml;\n",
              "          element.appendChild(docLink);\n",
              "        }\n",
              "      </script>\n",
              "    </div>\n",
              "  </div>\n",
              "  "
            ],
            "text/plain": [
              "              tweet_id              user_id               date_posted  \\\n",
              "0  1622459787781840900  1407502243147005953  2023-02-06T04:58:51.000Z   \n",
              "1  1622459776083828736  1596207409948762112  2023-02-06T04:58:49.000Z   \n",
              "2  1622459674955218949  1279461628816371713  2023-02-06T04:58:25.000Z   \n",
              "3  1622459637801811968  1320733420545343488  2023-02-06T04:58:16.000Z   \n",
              "4  1622459620446076928  1604704875186905089  2023-02-06T04:58:12.000Z   \n",
              "\n",
              "  retweet_count reply_count like_count quotetweet_count impression_count  \\\n",
              "0             5           1         28                0              794   \n",
              "1             2           0          0                0                0   \n",
              "2            48           0          0                0                0   \n",
              "3             0           1          1                0               18   \n",
              "4             2           0          0                0                0   \n",
              "\n",
              "                                                text   mentions  \n",
              "0          noel i got you starbucks ocean the drink   Starbucks  \n",
              "1   whos buying mommy her starbucks this morning ...  Starbucks  \n",
              "2   2 girls with remote vibrators going through a...  Starbucks  \n",
              "3   i think hes just that dumbguess the dude got ...  Starbucks  \n",
              "4   polygon has won massmarket attention thanks t...  Starbucks  "
            ]
          },
          "execution_count": 11,
          "metadata": {},
          "output_type": "execute_result"
        }
      ],
      "source": [
        "df_tweets.head()"
      ]
    },
    {
      "cell_type": "code",
      "execution_count": null,
      "metadata": {
        "colab": {
          "base_uri": "https://localhost:8080/"
        },
        "id": "SPyyrrYgwa-n",
        "outputId": "f4d238f3-6319-4a8f-823a-d18259b7d7c7"
      },
      "outputs": [
        {
          "data": {
            "text/plain": [
              "tweet_id            0\n",
              "user_id             0\n",
              "date_posted         0\n",
              "retweet_count       0\n",
              "reply_count         0\n",
              "like_count          0\n",
              "quotetweet_count    0\n",
              "impression_count    0\n",
              "text                0\n",
              "mentions            0\n",
              "dtype: int64"
            ]
          },
          "execution_count": 12,
          "metadata": {},
          "output_type": "execute_result"
        }
      ],
      "source": [
        "df_tweets.isna().sum()"
      ]
    },
    {
      "cell_type": "code",
      "execution_count": null,
      "metadata": {
        "colab": {
          "base_uri": "https://localhost:8080/"
        },
        "id": "MC2YaQkSxseP",
        "outputId": "43de1faa-f49f-499b-c1ea-291cf1241e21"
      },
      "outputs": [
        {
          "name": "stdout",
          "output_type": "stream",
          "text": [
            "                  tweet_id              user_id               date_posted  \\\n",
            "2471   1622375353812492290  1498177098669821954  2023-02-05T23:23:21.000Z   \n",
            "2940   1622361381507850241  1493085433068089345  2023-02-05T22:27:50.000Z   \n",
            "3041   1622358423835656192            465143905  2023-02-05T22:16:04.000Z   \n",
            "3647   1622341695105892354             25365699  2023-02-05T21:09:36.000Z   \n",
            "7237   1622366978156396545  1107337087202848768  2023-02-05T22:50:04.000Z   \n",
            "7384   1622336465253568512            304765292  2023-02-05T20:48:49.000Z   \n",
            "7545   1622313215886491649            466864852  2023-02-05T19:16:26.000Z   \n",
            "7907   1622271094970359809  1432030846710648835  2023-02-05T16:29:04.000Z   \n",
            "8011   1622256012660195328             89612649  2023-02-05T15:29:08.000Z   \n",
            "8035   1622252342816178176  1564779765742964738  2023-02-05T15:14:33.000Z   \n",
            "8041   1622250350400118785  1328715418916122625  2023-02-05T15:06:38.000Z   \n",
            "8488   1622179229398966273  1519954234208366592  2023-02-05T10:24:01.000Z   \n",
            "8657   1622143801413275649  1432030846710648835  2023-02-05T08:03:14.000Z   \n",
            "8788   1622106766967291904             81040137  2023-02-05T05:36:05.000Z   \n",
            "9360   1622046237091418112  1451511293744123905  2023-02-05T01:35:33.000Z   \n",
            "9377   1622044053528363009  1463928647040049159  2023-02-05T01:26:53.000Z   \n",
            "9668   1621988807984693249           3363122140  2023-02-04T21:47:21.000Z   \n",
            "9731   1621977874835345409  1375347393017696256  2023-02-04T21:03:54.000Z   \n",
            "9735   1621977462748872709            399605310  2023-02-04T21:02:16.000Z   \n",
            "11059  1622456145997619200           2867674599  2023-02-06T04:44:23.000Z   \n",
            "14233  1622443898340786176   862521666349539328  2023-02-06T03:55:43.000Z   \n",
            "16473  1622417105604714499   999765192824238086  2023-02-06T02:09:15.000Z   \n",
            "748    1635104024440741890  1245422747238518784  2023-03-13T02:22:32.000Z   \n",
            "\n",
            "      retweet_count reply_count like_count quotetweet_count impression_count  \\\n",
            "2471              1           0          0                0                0   \n",
            "2940              1           0          0                0                0   \n",
            "3041              3           0          0                0                0   \n",
            "3647              3           0          0                0                0   \n",
            "7237              0           0          4                0               75   \n",
            "7384              0           0          0                0               23   \n",
            "7545              0           3         17                0             5938   \n",
            "7907              0           0          2                0               19   \n",
            "8011              3           0          0                0                0   \n",
            "8035              3           0          0                0                0   \n",
            "8041              3           0          0                0                0   \n",
            "8488              0           0          0                0               35   \n",
            "8657              0           0          1                0               18   \n",
            "8788              0           0          0                0                3   \n",
            "9360              0           0          2                0               98   \n",
            "9377              0           0          0                0               13   \n",
            "9668              0           0          1                0               96   \n",
            "9731              1           0          0                0                0   \n",
            "9735              1           0          1                0               17   \n",
            "11059             3           0          0                0                0   \n",
            "14233             2           0          0                0                0   \n",
            "16473             1           0          0                0                0   \n",
            "748               0           0          5                0              541   \n",
            "\n",
            "      text   mentions  \n",
            "2471        Starbucks  \n",
            "2940        Starbucks  \n",
            "3041        Starbucks  \n",
            "3647        Starbucks  \n",
            "7237           Dunkin  \n",
            "7384           Dunkin  \n",
            "7545           Dunkin  \n",
            "7907           Dunkin  \n",
            "8011           Dunkin  \n",
            "8035           Dunkin  \n",
            "8041           Dunkin  \n",
            "8488           Dunkin  \n",
            "8657           Dunkin  \n",
            "8788           Dunkin  \n",
            "9360           Dunkin  \n",
            "9377           Dunkin  \n",
            "9668           Dunkin  \n",
            "9731           Dunkin  \n",
            "9735           Dunkin  \n",
            "11059         Netflix  \n",
            "14233         Netflix  \n",
            "16473            Hulu  \n",
            "748         Starbucks  \n"
          ]
        }
      ],
      "source": [
        "# Select the rows where the 'text' column is empty\n",
        "empty_rows = df_tweets[df_tweets['text'].isna() | (df_tweets['text'].str.strip() == '')]\n",
        "\n",
        "# Display the empty rows\n",
        "print(empty_rows)"
      ]
    },
    {
      "cell_type": "code",
      "execution_count": null,
      "metadata": {
        "id": "C4jmTxPSyvdf"
      },
      "outputs": [],
      "source": [
        "# Drop the rows where the 'text' column is empty\n",
        "df_tweets = df_tweets[df_tweets['text'].notna() & (df_tweets['text'].str.strip() != '')]"
      ]
    },
    {
      "cell_type": "code",
      "execution_count": null,
      "metadata": {
        "colab": {
          "base_uri": "https://localhost:8080/"
        },
        "id": "qUbV1NgQyz8M",
        "outputId": "940192b3-e22a-4e9c-f81b-5de5d9ec46c4"
      },
      "outputs": [
        {
          "data": {
            "text/plain": [
              "(106075, 10)"
            ]
          },
          "execution_count": 15,
          "metadata": {},
          "output_type": "execute_result"
        }
      ],
      "source": [
        "df_tweets.shape"
      ]
    },
    {
      "cell_type": "code",
      "execution_count": null,
      "metadata": {
        "colab": {
          "base_uri": "https://localhost:8080/",
          "height": 17
        },
        "id": "DyLm2dNHYShY",
        "outputId": "f008d454-2fc7-4fde-808a-4a640f7e9164"
      },
      "outputs": [
        {
          "data": {
            "application/javascript": [
              "\n",
              "    async function download(id, filename, size) {\n",
              "      if (!google.colab.kernel.accessAllowed) {\n",
              "        return;\n",
              "      }\n",
              "      const div = document.createElement('div');\n",
              "      const label = document.createElement('label');\n",
              "      label.textContent = `Downloading \"${filename}\": `;\n",
              "      div.appendChild(label);\n",
              "      const progress = document.createElement('progress');\n",
              "      progress.max = size;\n",
              "      div.appendChild(progress);\n",
              "      document.body.appendChild(div);\n",
              "\n",
              "      const buffers = [];\n",
              "      let downloaded = 0;\n",
              "\n",
              "      const channel = await google.colab.kernel.comms.open(id);\n",
              "      // Send a message to notify the kernel that we're ready.\n",
              "      channel.send({})\n",
              "\n",
              "      for await (const message of channel.messages) {\n",
              "        // Send a message to notify the kernel that we're ready.\n",
              "        channel.send({})\n",
              "        if (message.buffers) {\n",
              "          for (const buffer of message.buffers) {\n",
              "            buffers.push(buffer);\n",
              "            downloaded += buffer.byteLength;\n",
              "            progress.value = downloaded;\n",
              "          }\n",
              "        }\n",
              "      }\n",
              "      const blob = new Blob(buffers, {type: 'application/binary'});\n",
              "      const a = document.createElement('a');\n",
              "      a.href = window.URL.createObjectURL(blob);\n",
              "      a.download = filename;\n",
              "      div.appendChild(a);\n",
              "      a.click();\n",
              "      div.remove();\n",
              "    }\n",
              "  "
            ],
            "text/plain": [
              "<IPython.core.display.Javascript object>"
            ]
          },
          "metadata": {},
          "output_type": "display_data"
        },
        {
          "data": {
            "application/javascript": [
              "download(\"download_e59d3786-f466-4703-a5cf-80e378e26612\", \"Tweets_Clean.csv\", 19668024)"
            ],
            "text/plain": [
              "<IPython.core.display.Javascript object>"
            ]
          },
          "metadata": {},
          "output_type": "display_data"
        }
      ],
      "source": [
        "df_tweets.to_csv('Tweets_Clean.csv', index=False)\n",
        "files.download('Tweets_Clean.csv')"
      ]
    },
    {
      "cell_type": "code",
      "execution_count": null,
      "metadata": {
        "colab": {
          "base_uri": "https://localhost:8080/",
          "height": 625
        },
        "id": "UVkt-ttmzKQV",
        "outputId": "9c3698d1-4293-47f9-d3da-c5103c9e5ff9"
      },
      "outputs": [
        {
          "data": {
            "text/html": [
              "\n",
              "  <div id=\"df-b04054f8-c5e6-4d5f-b67e-d4a136063531\">\n",
              "    <div class=\"colab-df-container\">\n",
              "      <div>\n",
              "<style scoped>\n",
              "    .dataframe tbody tr th:only-of-type {\n",
              "        vertical-align: middle;\n",
              "    }\n",
              "\n",
              "    .dataframe tbody tr th {\n",
              "        vertical-align: top;\n",
              "    }\n",
              "\n",
              "    .dataframe thead th {\n",
              "        text-align: right;\n",
              "    }\n",
              "</style>\n",
              "<table border=\"1\" class=\"dataframe\">\n",
              "  <thead>\n",
              "    <tr style=\"text-align: right;\">\n",
              "      <th></th>\n",
              "      <th>tweet_id</th>\n",
              "      <th>user_id</th>\n",
              "      <th>date_posted</th>\n",
              "      <th>retweet_count</th>\n",
              "      <th>reply_count</th>\n",
              "      <th>like_count</th>\n",
              "      <th>quotetweet_count</th>\n",
              "      <th>impression_count</th>\n",
              "      <th>text</th>\n",
              "      <th>mentions</th>\n",
              "    </tr>\n",
              "  </thead>\n",
              "  <tbody>\n",
              "    <tr>\n",
              "      <th>0</th>\n",
              "      <td>1622459787781840900</td>\n",
              "      <td>1407502243147005953</td>\n",
              "      <td>2023-02-06T04:58:51.000Z</td>\n",
              "      <td>5</td>\n",
              "      <td>1</td>\n",
              "      <td>28</td>\n",
              "      <td>0</td>\n",
              "      <td>794</td>\n",
              "      <td>noel i got you starbucks ocean the drink</td>\n",
              "      <td>Starbucks</td>\n",
              "    </tr>\n",
              "    <tr>\n",
              "      <th>1</th>\n",
              "      <td>1622459776083828736</td>\n",
              "      <td>1596207409948762112</td>\n",
              "      <td>2023-02-06T04:58:49.000Z</td>\n",
              "      <td>2</td>\n",
              "      <td>0</td>\n",
              "      <td>0</td>\n",
              "      <td>0</td>\n",
              "      <td>0</td>\n",
              "      <td>whos buying mommy her starbucks this morning ...</td>\n",
              "      <td>Starbucks</td>\n",
              "    </tr>\n",
              "    <tr>\n",
              "      <th>2</th>\n",
              "      <td>1622459674955218949</td>\n",
              "      <td>1279461628816371713</td>\n",
              "      <td>2023-02-06T04:58:25.000Z</td>\n",
              "      <td>48</td>\n",
              "      <td>0</td>\n",
              "      <td>0</td>\n",
              "      <td>0</td>\n",
              "      <td>0</td>\n",
              "      <td>2 girls with remote vibrators going through a...</td>\n",
              "      <td>Starbucks</td>\n",
              "    </tr>\n",
              "    <tr>\n",
              "      <th>3</th>\n",
              "      <td>1622459637801811968</td>\n",
              "      <td>1320733420545343488</td>\n",
              "      <td>2023-02-06T04:58:16.000Z</td>\n",
              "      <td>0</td>\n",
              "      <td>1</td>\n",
              "      <td>1</td>\n",
              "      <td>0</td>\n",
              "      <td>18</td>\n",
              "      <td>i think hes just that dumbguess the dude got ...</td>\n",
              "      <td>Starbucks</td>\n",
              "    </tr>\n",
              "    <tr>\n",
              "      <th>4</th>\n",
              "      <td>1622459620446076928</td>\n",
              "      <td>1604704875186905089</td>\n",
              "      <td>2023-02-06T04:58:12.000Z</td>\n",
              "      <td>2</td>\n",
              "      <td>0</td>\n",
              "      <td>0</td>\n",
              "      <td>0</td>\n",
              "      <td>0</td>\n",
              "      <td>polygon has won massmarket attention thanks t...</td>\n",
              "      <td>Starbucks</td>\n",
              "    </tr>\n",
              "  </tbody>\n",
              "</table>\n",
              "</div>\n",
              "      <button class=\"colab-df-convert\" onclick=\"convertToInteractive('df-b04054f8-c5e6-4d5f-b67e-d4a136063531')\"\n",
              "              title=\"Convert this dataframe to an interactive table.\"\n",
              "              style=\"display:none;\">\n",
              "        \n",
              "  <svg xmlns=\"http://www.w3.org/2000/svg\" height=\"24px\"viewBox=\"0 0 24 24\"\n",
              "       width=\"24px\">\n",
              "    <path d=\"M0 0h24v24H0V0z\" fill=\"none\"/>\n",
              "    <path d=\"M18.56 5.44l.94 2.06.94-2.06 2.06-.94-2.06-.94-.94-2.06-.94 2.06-2.06.94zm-11 1L8.5 8.5l.94-2.06 2.06-.94-2.06-.94L8.5 2.5l-.94 2.06-2.06.94zm10 10l.94 2.06.94-2.06 2.06-.94-2.06-.94-.94-2.06-.94 2.06-2.06.94z\"/><path d=\"M17.41 7.96l-1.37-1.37c-.4-.4-.92-.59-1.43-.59-.52 0-1.04.2-1.43.59L10.3 9.45l-7.72 7.72c-.78.78-.78 2.05 0 2.83L4 21.41c.39.39.9.59 1.41.59.51 0 1.02-.2 1.41-.59l7.78-7.78 2.81-2.81c.8-.78.8-2.07 0-2.86zM5.41 20L4 18.59l7.72-7.72 1.47 1.35L5.41 20z\"/>\n",
              "  </svg>\n",
              "      </button>\n",
              "      \n",
              "  <style>\n",
              "    .colab-df-container {\n",
              "      display:flex;\n",
              "      flex-wrap:wrap;\n",
              "      gap: 12px;\n",
              "    }\n",
              "\n",
              "    .colab-df-convert {\n",
              "      background-color: #E8F0FE;\n",
              "      border: none;\n",
              "      border-radius: 50%;\n",
              "      cursor: pointer;\n",
              "      display: none;\n",
              "      fill: #1967D2;\n",
              "      height: 32px;\n",
              "      padding: 0 0 0 0;\n",
              "      width: 32px;\n",
              "    }\n",
              "\n",
              "    .colab-df-convert:hover {\n",
              "      background-color: #E2EBFA;\n",
              "      box-shadow: 0px 1px 2px rgba(60, 64, 67, 0.3), 0px 1px 3px 1px rgba(60, 64, 67, 0.15);\n",
              "      fill: #174EA6;\n",
              "    }\n",
              "\n",
              "    [theme=dark] .colab-df-convert {\n",
              "      background-color: #3B4455;\n",
              "      fill: #D2E3FC;\n",
              "    }\n",
              "\n",
              "    [theme=dark] .colab-df-convert:hover {\n",
              "      background-color: #434B5C;\n",
              "      box-shadow: 0px 1px 3px 1px rgba(0, 0, 0, 0.15);\n",
              "      filter: drop-shadow(0px 1px 2px rgba(0, 0, 0, 0.3));\n",
              "      fill: #FFFFFF;\n",
              "    }\n",
              "  </style>\n",
              "\n",
              "      <script>\n",
              "        const buttonEl =\n",
              "          document.querySelector('#df-b04054f8-c5e6-4d5f-b67e-d4a136063531 button.colab-df-convert');\n",
              "        buttonEl.style.display =\n",
              "          google.colab.kernel.accessAllowed ? 'block' : 'none';\n",
              "\n",
              "        async function convertToInteractive(key) {\n",
              "          const element = document.querySelector('#df-b04054f8-c5e6-4d5f-b67e-d4a136063531');\n",
              "          const dataTable =\n",
              "            await google.colab.kernel.invokeFunction('convertToInteractive',\n",
              "                                                     [key], {});\n",
              "          if (!dataTable) return;\n",
              "\n",
              "          const docLinkHtml = 'Like what you see? Visit the ' +\n",
              "            '<a target=\"_blank\" href=https://colab.research.google.com/notebooks/data_table.ipynb>data table notebook</a>'\n",
              "            + ' to learn more about interactive tables.';\n",
              "          element.innerHTML = '';\n",
              "          dataTable['output_type'] = 'display_data';\n",
              "          await google.colab.output.renderOutput(dataTable, element);\n",
              "          const docLink = document.createElement('div');\n",
              "          docLink.innerHTML = docLinkHtml;\n",
              "          element.appendChild(docLink);\n",
              "        }\n",
              "      </script>\n",
              "    </div>\n",
              "  </div>\n",
              "  "
            ],
            "text/plain": [
              "              tweet_id              user_id               date_posted  \\\n",
              "0  1622459787781840900  1407502243147005953  2023-02-06T04:58:51.000Z   \n",
              "1  1622459776083828736  1596207409948762112  2023-02-06T04:58:49.000Z   \n",
              "2  1622459674955218949  1279461628816371713  2023-02-06T04:58:25.000Z   \n",
              "3  1622459637801811968  1320733420545343488  2023-02-06T04:58:16.000Z   \n",
              "4  1622459620446076928  1604704875186905089  2023-02-06T04:58:12.000Z   \n",
              "\n",
              "  retweet_count reply_count like_count quotetweet_count impression_count  \\\n",
              "0             5           1         28                0              794   \n",
              "1             2           0          0                0                0   \n",
              "2            48           0          0                0                0   \n",
              "3             0           1          1                0               18   \n",
              "4             2           0          0                0                0   \n",
              "\n",
              "                                                text   mentions  \n",
              "0          noel i got you starbucks ocean the drink   Starbucks  \n",
              "1   whos buying mommy her starbucks this morning ...  Starbucks  \n",
              "2   2 girls with remote vibrators going through a...  Starbucks  \n",
              "3   i think hes just that dumbguess the dude got ...  Starbucks  \n",
              "4   polygon has won massmarket attention thanks t...  Starbucks  "
            ]
          },
          "execution_count": 17,
          "metadata": {},
          "output_type": "execute_result"
        }
      ],
      "source": [
        "df_tweets.head()"
      ]
    },
    {
      "cell_type": "code",
      "execution_count": null,
      "metadata": {
        "id": "uLC5Ysb50dmP"
      },
      "outputs": [],
      "source": []
    },
    {
      "cell_type": "code",
      "execution_count": null,
      "metadata": {
        "id": "Fsb1af5GrHIZ"
      },
      "outputs": [],
      "source": []
    },
    {
      "cell_type": "markdown",
      "metadata": {
        "id": "W55U3tGBrHjy"
      },
      "source": [
        "##Users"
      ]
    },
    {
      "cell_type": "code",
      "execution_count": null,
      "metadata": {
        "id": "eHjWWsoWrJDk"
      },
      "outputs": [],
      "source": [
        "df_users1 = pd.read_csv('/content/Users_Week1.csv')\n",
        "df_users2 = pd.read_csv('/content/Users_Week2.csv')\n",
        "df_users3 = pd.read_csv('/content/Users_Week3.csv')\n",
        "df_users4 = pd.read_csv('/content/Users_Week4.csv')\n",
        "df_users5 = pd.read_csv('/content/Users_Week5.csv')\n",
        "#df_users6 = pd.read_csv('/content/Users_Week6.csv')\n",
        "df_users = pd.concat([df_users1, df_users2, df_users3, df_users4, df_users5], axis = 0)"
      ]
    },
    {
      "cell_type": "code",
      "source": [
        "users = pd.read_csv('/content/Users_Week5.csv')"
      ],
      "metadata": {
        "colab": {
          "base_uri": "https://localhost:8080/"
        },
        "id": "tuSgOcUlYQU6",
        "outputId": "ccbccdf6-77e7-4fbc-957e-59abb2327be3"
      },
      "execution_count": null,
      "outputs": [
        {
          "output_type": "stream",
          "name": "stderr",
          "text": [
            "<ipython-input-35-c46b0417fa2b>:1: DtypeWarning: Columns (6) have mixed types. Specify dtype option on import or set low_memory=False.\n",
            "  df_users = df_users5 = pd.read_csv('/content/Users_Clean.csv')\n"
          ]
        }
      ]
    },
    {
      "cell_type": "code",
      "execution_count": null,
      "metadata": {
        "colab": {
          "base_uri": "https://localhost:8080/"
        },
        "id": "-6vjl0srrJG7",
        "outputId": "5ecebcac-0870-41e9-fdbc-659a18f702f0"
      },
      "outputs": [
        {
          "output_type": "execute_result",
          "data": {
            "text/plain": [
              "(68475, 12)"
            ]
          },
          "metadata": {},
          "execution_count": 36
        }
      ],
      "source": [
        "df_users.shape"
      ]
    },
    {
      "cell_type": "code",
      "execution_count": null,
      "metadata": {
        "id": "8sZ8MBZArJML"
      },
      "outputs": [],
      "source": [
        "#utf-8\n",
        "df_users = df_users.astype(str).apply(lambda x: x.str.encode('ascii', 'ignore').str.decode('ascii'))"
      ]
    },
    {
      "cell_type": "code",
      "execution_count": null,
      "metadata": {
        "id": "p_nJTZQ-rJPA"
      },
      "outputs": [],
      "source": [
        "#remove newlines, whitespace, punctuation, @, and links\n",
        "import re\n",
        "\n",
        "url_pattern = r\"http[s]?://(?:[a-zA-Z]|[0-9]|[$-_@.&+]|[!*\\(\\),]|(?:%[0-9a-fA-F][0-9a-fA-F]))+\"\n",
        "at_pattern = r\"@\\w+\"\n",
        "rt = \"rt :\"\n",
        "new_line = \"\\n\"\n",
        "punct_pattern = r\"[^\\w\\s]\"\n",
        "spaces_pattern = r\"\\s+\"\n",
        "hashtag = r'#\\w+'\n",
        "\n",
        "\n",
        "def remove_urls_and_at(text):\n",
        "    text = re.sub(url_pattern, \"\", text)\n",
        "    text = re.sub(at_pattern, \"\", text)\n",
        "    text = re.sub(rt, \"\", text)\n",
        "    text = re.sub(new_line, \"\", text)\n",
        "    text = re.sub(punct_pattern, \"\", text)\n",
        "    text = re.sub(hashtag, \" \", text)\n",
        "    text = re.sub(spaces_pattern, \" \", text)\n",
        "    return text\n",
        "\n",
        "\n",
        "# Apply the function to the 'text' column using DataFrame.apply()\n",
        "df_users['name'] = df_users['name'].apply(remove_urls_and_at)\n",
        "df_users['bio'] = df_users['bio'].apply(remove_urls_and_at)\n",
        "df_users['location'] = df_users['bio'].apply(remove_urls_and_at)"
      ]
    },
    {
      "cell_type": "code",
      "execution_count": null,
      "metadata": {
        "colab": {
          "base_uri": "https://localhost:8080/",
          "height": 557
        },
        "id": "kpa7gzBarJRp",
        "outputId": "8c9eafd5-5b5f-49cd-ad35-a79cd805475d"
      },
      "outputs": [
        {
          "output_type": "execute_result",
          "data": {
            "text/plain": [
              "                       name             user_id        username  \\\n",
              "0                            999994559097602048        42cali0G   \n",
              "1  Riiica wants to see skz   999825048578834432      blah_arjii   \n",
              "2                  Atarashi  999785418282414080  _OWARIHAJIMUGI   \n",
              "3             Zachary Costa  999765192824238086  ZacharyCosta14   \n",
              "4                   Chimike  999756097694158851        Chimike9   \n",
              "\n",
              "                date_joined  \\\n",
              "0  2018-05-25T12:44:16.000Z   \n",
              "1  2018-05-25T01:30:42.000Z   \n",
              "2  2018-05-24T22:53:13.000Z   \n",
              "3  2018-05-24T21:32:51.000Z   \n",
              "4  2018-05-24T20:56:43.000Z   \n",
              "\n",
              "                                                 bio  \\\n",
              "0                       you know what it izzzzzzzzzz   \n",
              "1                                   StayZens ExoL 18   \n",
              "2  Big TWEWY KOn fan Sawako Yamanakas number one ...   \n",
              "3  Im 35 Autistic Person Who Wants ADateWith In N...   \n",
              "4                                                nan   \n",
              "\n",
              "                                            location verified verified_type  \\\n",
              "0                       you know what it izzzzzzzzzz    False          none   \n",
              "1                                   StayZens ExoL 18    False          none   \n",
              "2  Big TWEWY KOn fan Sawako Yamanakas number one ...    False          none   \n",
              "3  Im 35 Autistic Person Who Wants ADateWith In N...    False          none   \n",
              "4                                                nan    False          none   \n",
              "\n",
              "  follower_count following_count listed_count tweet_count  \n",
              "0          618.0           545.0          0.0     30043.0  \n",
              "1           92.0           183.0          0.0      1891.0  \n",
              "2          694.0           624.0         17.0    101945.0  \n",
              "3          881.0          5001.0          5.0    107067.0  \n",
              "4           58.0           189.0          4.0     11313.0  "
            ],
            "text/html": [
              "\n",
              "  <div id=\"df-43589121-add0-45ae-8316-6f48f5c3992c\">\n",
              "    <div class=\"colab-df-container\">\n",
              "      <div>\n",
              "<style scoped>\n",
              "    .dataframe tbody tr th:only-of-type {\n",
              "        vertical-align: middle;\n",
              "    }\n",
              "\n",
              "    .dataframe tbody tr th {\n",
              "        vertical-align: top;\n",
              "    }\n",
              "\n",
              "    .dataframe thead th {\n",
              "        text-align: right;\n",
              "    }\n",
              "</style>\n",
              "<table border=\"1\" class=\"dataframe\">\n",
              "  <thead>\n",
              "    <tr style=\"text-align: right;\">\n",
              "      <th></th>\n",
              "      <th>name</th>\n",
              "      <th>user_id</th>\n",
              "      <th>username</th>\n",
              "      <th>date_joined</th>\n",
              "      <th>bio</th>\n",
              "      <th>location</th>\n",
              "      <th>verified</th>\n",
              "      <th>verified_type</th>\n",
              "      <th>follower_count</th>\n",
              "      <th>following_count</th>\n",
              "      <th>listed_count</th>\n",
              "      <th>tweet_count</th>\n",
              "    </tr>\n",
              "  </thead>\n",
              "  <tbody>\n",
              "    <tr>\n",
              "      <th>0</th>\n",
              "      <td></td>\n",
              "      <td>999994559097602048</td>\n",
              "      <td>42cali0G</td>\n",
              "      <td>2018-05-25T12:44:16.000Z</td>\n",
              "      <td>you know what it izzzzzzzzzz</td>\n",
              "      <td>you know what it izzzzzzzzzz</td>\n",
              "      <td>False</td>\n",
              "      <td>none</td>\n",
              "      <td>618.0</td>\n",
              "      <td>545.0</td>\n",
              "      <td>0.0</td>\n",
              "      <td>30043.0</td>\n",
              "    </tr>\n",
              "    <tr>\n",
              "      <th>1</th>\n",
              "      <td>Riiica wants to see skz</td>\n",
              "      <td>999825048578834432</td>\n",
              "      <td>blah_arjii</td>\n",
              "      <td>2018-05-25T01:30:42.000Z</td>\n",
              "      <td>StayZens ExoL 18</td>\n",
              "      <td>StayZens ExoL 18</td>\n",
              "      <td>False</td>\n",
              "      <td>none</td>\n",
              "      <td>92.0</td>\n",
              "      <td>183.0</td>\n",
              "      <td>0.0</td>\n",
              "      <td>1891.0</td>\n",
              "    </tr>\n",
              "    <tr>\n",
              "      <th>2</th>\n",
              "      <td>Atarashi</td>\n",
              "      <td>999785418282414080</td>\n",
              "      <td>_OWARIHAJIMUGI</td>\n",
              "      <td>2018-05-24T22:53:13.000Z</td>\n",
              "      <td>Big TWEWY KOn fan Sawako Yamanakas number one ...</td>\n",
              "      <td>Big TWEWY KOn fan Sawako Yamanakas number one ...</td>\n",
              "      <td>False</td>\n",
              "      <td>none</td>\n",
              "      <td>694.0</td>\n",
              "      <td>624.0</td>\n",
              "      <td>17.0</td>\n",
              "      <td>101945.0</td>\n",
              "    </tr>\n",
              "    <tr>\n",
              "      <th>3</th>\n",
              "      <td>Zachary Costa</td>\n",
              "      <td>999765192824238086</td>\n",
              "      <td>ZacharyCosta14</td>\n",
              "      <td>2018-05-24T21:32:51.000Z</td>\n",
              "      <td>Im 35 Autistic Person Who Wants ADateWith In N...</td>\n",
              "      <td>Im 35 Autistic Person Who Wants ADateWith In N...</td>\n",
              "      <td>False</td>\n",
              "      <td>none</td>\n",
              "      <td>881.0</td>\n",
              "      <td>5001.0</td>\n",
              "      <td>5.0</td>\n",
              "      <td>107067.0</td>\n",
              "    </tr>\n",
              "    <tr>\n",
              "      <th>4</th>\n",
              "      <td>Chimike</td>\n",
              "      <td>999756097694158851</td>\n",
              "      <td>Chimike9</td>\n",
              "      <td>2018-05-24T20:56:43.000Z</td>\n",
              "      <td>nan</td>\n",
              "      <td>nan</td>\n",
              "      <td>False</td>\n",
              "      <td>none</td>\n",
              "      <td>58.0</td>\n",
              "      <td>189.0</td>\n",
              "      <td>4.0</td>\n",
              "      <td>11313.0</td>\n",
              "    </tr>\n",
              "  </tbody>\n",
              "</table>\n",
              "</div>\n",
              "      <button class=\"colab-df-convert\" onclick=\"convertToInteractive('df-43589121-add0-45ae-8316-6f48f5c3992c')\"\n",
              "              title=\"Convert this dataframe to an interactive table.\"\n",
              "              style=\"display:none;\">\n",
              "        \n",
              "  <svg xmlns=\"http://www.w3.org/2000/svg\" height=\"24px\"viewBox=\"0 0 24 24\"\n",
              "       width=\"24px\">\n",
              "    <path d=\"M0 0h24v24H0V0z\" fill=\"none\"/>\n",
              "    <path d=\"M18.56 5.44l.94 2.06.94-2.06 2.06-.94-2.06-.94-.94-2.06-.94 2.06-2.06.94zm-11 1L8.5 8.5l.94-2.06 2.06-.94-2.06-.94L8.5 2.5l-.94 2.06-2.06.94zm10 10l.94 2.06.94-2.06 2.06-.94-2.06-.94-.94-2.06-.94 2.06-2.06.94z\"/><path d=\"M17.41 7.96l-1.37-1.37c-.4-.4-.92-.59-1.43-.59-.52 0-1.04.2-1.43.59L10.3 9.45l-7.72 7.72c-.78.78-.78 2.05 0 2.83L4 21.41c.39.39.9.59 1.41.59.51 0 1.02-.2 1.41-.59l7.78-7.78 2.81-2.81c.8-.78.8-2.07 0-2.86zM5.41 20L4 18.59l7.72-7.72 1.47 1.35L5.41 20z\"/>\n",
              "  </svg>\n",
              "      </button>\n",
              "      \n",
              "  <style>\n",
              "    .colab-df-container {\n",
              "      display:flex;\n",
              "      flex-wrap:wrap;\n",
              "      gap: 12px;\n",
              "    }\n",
              "\n",
              "    .colab-df-convert {\n",
              "      background-color: #E8F0FE;\n",
              "      border: none;\n",
              "      border-radius: 50%;\n",
              "      cursor: pointer;\n",
              "      display: none;\n",
              "      fill: #1967D2;\n",
              "      height: 32px;\n",
              "      padding: 0 0 0 0;\n",
              "      width: 32px;\n",
              "    }\n",
              "\n",
              "    .colab-df-convert:hover {\n",
              "      background-color: #E2EBFA;\n",
              "      box-shadow: 0px 1px 2px rgba(60, 64, 67, 0.3), 0px 1px 3px 1px rgba(60, 64, 67, 0.15);\n",
              "      fill: #174EA6;\n",
              "    }\n",
              "\n",
              "    [theme=dark] .colab-df-convert {\n",
              "      background-color: #3B4455;\n",
              "      fill: #D2E3FC;\n",
              "    }\n",
              "\n",
              "    [theme=dark] .colab-df-convert:hover {\n",
              "      background-color: #434B5C;\n",
              "      box-shadow: 0px 1px 3px 1px rgba(0, 0, 0, 0.15);\n",
              "      filter: drop-shadow(0px 1px 2px rgba(0, 0, 0, 0.3));\n",
              "      fill: #FFFFFF;\n",
              "    }\n",
              "  </style>\n",
              "\n",
              "      <script>\n",
              "        const buttonEl =\n",
              "          document.querySelector('#df-43589121-add0-45ae-8316-6f48f5c3992c button.colab-df-convert');\n",
              "        buttonEl.style.display =\n",
              "          google.colab.kernel.accessAllowed ? 'block' : 'none';\n",
              "\n",
              "        async function convertToInteractive(key) {\n",
              "          const element = document.querySelector('#df-43589121-add0-45ae-8316-6f48f5c3992c');\n",
              "          const dataTable =\n",
              "            await google.colab.kernel.invokeFunction('convertToInteractive',\n",
              "                                                     [key], {});\n",
              "          if (!dataTable) return;\n",
              "\n",
              "          const docLinkHtml = 'Like what you see? Visit the ' +\n",
              "            '<a target=\"_blank\" href=https://colab.research.google.com/notebooks/data_table.ipynb>data table notebook</a>'\n",
              "            + ' to learn more about interactive tables.';\n",
              "          element.innerHTML = '';\n",
              "          dataTable['output_type'] = 'display_data';\n",
              "          await google.colab.output.renderOutput(dataTable, element);\n",
              "          const docLink = document.createElement('div');\n",
              "          docLink.innerHTML = docLinkHtml;\n",
              "          element.appendChild(docLink);\n",
              "        }\n",
              "      </script>\n",
              "    </div>\n",
              "  </div>\n",
              "  "
            ]
          },
          "metadata": {},
          "execution_count": 14
        }
      ],
      "source": [
        "df_users.head()"
      ]
    },
    {
      "cell_type": "code",
      "execution_count": null,
      "metadata": {
        "colab": {
          "base_uri": "https://localhost:8080/"
        },
        "id": "itMeMTODrJUQ",
        "outputId": "700d4641-3246-4dd9-f826-d4f76b23bd6e"
      },
      "outputs": [
        {
          "output_type": "execute_result",
          "data": {
            "text/plain": [
              "name               0\n",
              "user_id            0\n",
              "username           0\n",
              "date_joined        0\n",
              "bio                0\n",
              "location           0\n",
              "verified           0\n",
              "verified_type      0\n",
              "follower_count     0\n",
              "following_count    0\n",
              "listed_count       0\n",
              "tweet_count        0\n",
              "dtype: int64"
            ]
          },
          "metadata": {},
          "execution_count": 15
        }
      ],
      "source": [
        "df_users.isna().sum()"
      ]
    },
    {
      "cell_type": "code",
      "execution_count": null,
      "metadata": {
        "colab": {
          "base_uri": "https://localhost:8080/",
          "height": 17
        },
        "id": "i9fGnLrYrJW2",
        "outputId": "6afbe515-6f33-435c-9202-de789d6650e7"
      },
      "outputs": [
        {
          "output_type": "display_data",
          "data": {
            "text/plain": [
              "<IPython.core.display.Javascript object>"
            ],
            "application/javascript": [
              "\n",
              "    async function download(id, filename, size) {\n",
              "      if (!google.colab.kernel.accessAllowed) {\n",
              "        return;\n",
              "      }\n",
              "      const div = document.createElement('div');\n",
              "      const label = document.createElement('label');\n",
              "      label.textContent = `Downloading \"${filename}\": `;\n",
              "      div.appendChild(label);\n",
              "      const progress = document.createElement('progress');\n",
              "      progress.max = size;\n",
              "      div.appendChild(progress);\n",
              "      document.body.appendChild(div);\n",
              "\n",
              "      const buffers = [];\n",
              "      let downloaded = 0;\n",
              "\n",
              "      const channel = await google.colab.kernel.comms.open(id);\n",
              "      // Send a message to notify the kernel that we're ready.\n",
              "      channel.send({})\n",
              "\n",
              "      for await (const message of channel.messages) {\n",
              "        // Send a message to notify the kernel that we're ready.\n",
              "        channel.send({})\n",
              "        if (message.buffers) {\n",
              "          for (const buffer of message.buffers) {\n",
              "            buffers.push(buffer);\n",
              "            downloaded += buffer.byteLength;\n",
              "            progress.value = downloaded;\n",
              "          }\n",
              "        }\n",
              "      }\n",
              "      const blob = new Blob(buffers, {type: 'application/binary'});\n",
              "      const a = document.createElement('a');\n",
              "      a.href = window.URL.createObjectURL(blob);\n",
              "      a.download = filename;\n",
              "      div.appendChild(a);\n",
              "      a.click();\n",
              "      div.remove();\n",
              "    }\n",
              "  "
            ]
          },
          "metadata": {}
        },
        {
          "output_type": "display_data",
          "data": {
            "text/plain": [
              "<IPython.core.display.Javascript object>"
            ],
            "application/javascript": [
              "download(\"download_fcf274d7-c867-4a67-96b2-f3eb4fdbd908\", \"Users_Clean.csv\", 14772690)"
            ]
          },
          "metadata": {}
        }
      ],
      "source": [
        "df_users.to_csv('Users_Clean.csv', index=False)\n",
        "files.download('Users_Clean.csv')"
      ]
    },
    {
      "cell_type": "code",
      "execution_count": null,
      "metadata": {
        "id": "M-7LZAJUrJZK"
      },
      "outputs": [],
      "source": []
    },
    {
      "cell_type": "code",
      "execution_count": null,
      "metadata": {
        "id": "KlzJ5-4yrJcF"
      },
      "outputs": [],
      "source": []
    },
    {
      "cell_type": "markdown",
      "metadata": {
        "id": "8bB00vUX8-hq"
      },
      "source": [
        "## English"
      ]
    },
    {
      "cell_type": "code",
      "execution_count": null,
      "metadata": {
        "colab": {
          "base_uri": "https://localhost:8080/"
        },
        "id": "AcitwqJA9XFh",
        "outputId": "e6a57ce4-95fe-4e5c-a27f-afde481720a4"
      },
      "outputs": [
        {
          "name": "stdout",
          "output_type": "stream",
          "text": [
            "Looking in indexes: https://pypi.org/simple, https://us-python.pkg.dev/colab-wheels/public/simple/\n",
            "Requirement already satisfied: langdetect in /usr/local/lib/python3.9/dist-packages (1.0.9)\n",
            "Requirement already satisfied: six in /usr/local/lib/python3.9/dist-packages (from langdetect) (1.15.0)\n"
          ]
        }
      ],
      "source": [
        "!pip install langdetect"
      ]
    },
    {
      "cell_type": "code",
      "execution_count": null,
      "metadata": {
        "id": "3UKecZrO9BAs"
      },
      "outputs": [],
      "source": [
        "tweets = pd.read_csv('/content/Tweets_Clean.csv')"
      ]
    },
    {
      "cell_type": "code",
      "execution_count": null,
      "metadata": {
        "colab": {
          "base_uri": "https://localhost:8080/"
        },
        "id": "1pQ4ZLPE1tSj",
        "outputId": "b3e32c25-a280-4df5-e6d7-c56f5c85569d"
      },
      "outputs": [
        {
          "data": {
            "text/plain": [
              "(106075, 10)"
            ]
          },
          "execution_count": 44,
          "metadata": {},
          "output_type": "execute_result"
        }
      ],
      "source": [
        "tweets.shape"
      ]
    },
    {
      "cell_type": "code",
      "execution_count": null,
      "metadata": {
        "colab": {
          "background_save": true
        },
        "id": "TZVfmbao9BGU",
        "outputId": "e9adbad3-78fd-4933-f721-2cf7e5f59caf"
      },
      "outputs": [
        {
          "name": "stdout",
          "output_type": "stream",
          "text": [
            "                   tweet_id              user_id               date_posted  \\\n",
            "0       1622459787781840900  1407502243147005953  2023-02-06T04:58:51.000Z   \n",
            "5       1622459582181408768  1621677950356848640  2023-02-06T04:58:02.000Z   \n",
            "11      1622458866276634624           4674946214  2023-02-06T04:55:12.000Z   \n",
            "12      1622458854179995650  1020141387692507136  2023-02-06T04:55:09.000Z   \n",
            "20      1622458538491801601           4674946214  2023-02-06T04:53:54.000Z   \n",
            "...                     ...                  ...                       ...   \n",
            "105970  1634625946526392321            166029977  2023-03-11T18:42:50.000Z   \n",
            "105973  1634622470639550464             81643661  2023-03-11T18:29:01.000Z   \n",
            "105999  1634434620312698880  1205330869453574145  2023-03-11T06:02:34.000Z   \n",
            "106037  1634990571420008448  1515416985500221441  2023-03-12T18:51:43.000Z   \n",
            "106068  1634850855580217351           1070172116  2023-03-12T09:36:32.000Z   \n",
            "\n",
            "        retweet_count  reply_count  like_count  quotetweet_count  \\\n",
            "0                   5            1          28                 0   \n",
            "5                   0            0           1                 0   \n",
            "11                  0            1           1                 0   \n",
            "12               1547            0           0                 0   \n",
            "20                  0            1           1                 0   \n",
            "...               ...          ...         ...               ...   \n",
            "105970              0            0           0                 0   \n",
            "105973              0            0           0                 0   \n",
            "105999              0            1           0                 0   \n",
            "106037              0            0           0                 0   \n",
            "106068              0            0           0                 0   \n",
            "\n",
            "        impression_count                                               text  \\\n",
            "0                    794          noel i got you starbucks ocean the drink    \n",
            "5                     11                          my favorite at starbucks    \n",
            "11                     8                                               oops   \n",
            "12                     0   starbucks lemon loaf looks like phoebe bridgers    \n",
            "20                     7                                        mhm deelish   \n",
            "...                  ...                                                ...   \n",
            "105970               139   hell no jet blue is my preference airline aft...   \n",
            "105973                63                        delta airline overrated idc   \n",
            "105999                16         nope nice delta airline or virgin atlantic   \n",
            "106037               469    lax picked up old friend from fl delta airline    \n",
            "106068                 1  delta air lines brings back kids meals availab...   \n",
            "\n",
            "         mentions  \n",
            "0       Starbucks  \n",
            "5       Starbucks  \n",
            "11      Starbucks  \n",
            "12      Starbucks  \n",
            "20      Starbucks  \n",
            "...           ...  \n",
            "105970      Delta  \n",
            "105973      Delta  \n",
            "105999      Delta  \n",
            "106037      Delta  \n",
            "106068      Delta  \n",
            "\n",
            "[14104 rows x 10 columns]\n"
          ]
        }
      ],
      "source": [
        "from langdetect import detect\n",
        "\n",
        "non_english_tweets = []\n",
        "\n",
        "# Iterate through each row of the DataFrame\n",
        "for index, row in tweets.iterrows():\n",
        "    text = row['text']\n",
        "    language = detect(text)\n",
        "    if language != 'en':\n",
        "        non_english_tweets.append(row)\n",
        "\n",
        "# Create a new DataFrame with only the non-English tweets\n",
        "non_english_tweets_df = pd.DataFrame(non_english_tweets)\n",
        "\n",
        "# Print the non-English tweets\n",
        "#print(non_english_tweets_df)"
      ]
    },
    {
      "cell_type": "code",
      "execution_count": null,
      "metadata": {
        "id": "SYPJebx39BIJ"
      },
      "outputs": [],
      "source": []
    },
    {
      "cell_type": "markdown",
      "metadata": {
        "id": "IzUek7rKpdkR"
      },
      "source": [
        "###Users"
      ]
    },
    {
      "cell_type": "code",
      "execution_count": null,
      "metadata": {
        "id": "I0F1Ro1IpexJ"
      },
      "outputs": [],
      "source": []
    },
    {
      "cell_type": "code",
      "execution_count": null,
      "metadata": {
        "id": "qQvAm5x2pezb"
      },
      "outputs": [],
      "source": []
    },
    {
      "cell_type": "code",
      "execution_count": null,
      "metadata": {
        "id": "kjshdP4_pe1x"
      },
      "outputs": [],
      "source": []
    },
    {
      "cell_type": "markdown",
      "metadata": {
        "id": "wwSTXIKjqzkk"
      },
      "source": [
        "## Table Split"
      ]
    },
    {
      "cell_type": "code",
      "execution_count": null,
      "metadata": {
        "id": "nYmw4l4Rq2B4"
      },
      "outputs": [],
      "source": [
        "tweets = pd.read_csv('/content/Tweets_Clean.csv')\n",
        "#users = pd.read_csv('/content/Users_Clean.csv')"
      ]
    },
    {
      "cell_type": "code",
      "source": [
        "tweets = unique_tweets"
      ],
      "metadata": {
        "id": "00q6tbWgffhU"
      },
      "execution_count": null,
      "outputs": []
    },
    {
      "cell_type": "code",
      "source": [
        "tweets.shape"
      ],
      "metadata": {
        "colab": {
          "base_uri": "https://localhost:8080/"
        },
        "id": "vyvxRVQcfiyJ",
        "outputId": "e363692d-1299-4146-898a-363a087dc606"
      },
      "execution_count": null,
      "outputs": [
        {
          "output_type": "execute_result",
          "data": {
            "text/plain": [
              "(88365, 10)"
            ]
          },
          "metadata": {},
          "execution_count": 3
        }
      ]
    },
    {
      "cell_type": "code",
      "source": [
        "users.head()"
      ],
      "metadata": {
        "id": "rwbld08AvT2X"
      },
      "execution_count": null,
      "outputs": []
    },
    {
      "cell_type": "code",
      "source": [
        "user = pd.DataFrame({'user_id': users['user_id'],\n",
        "                          'username':users['username'], 'name':users['name'],\n",
        "                          'date_joined':users['date_joined'], 'bio':users['bio'],\n",
        "                          'location':users['location']})"
      ],
      "metadata": {
        "id": "W5Gv1MhVrtoy"
      },
      "execution_count": null,
      "outputs": []
    },
    {
      "cell_type": "code",
      "execution_count": null,
      "metadata": {
        "id": "8E7Z3_bQq2EJ"
      },
      "outputs": [],
      "source": [
        "user_metrics = pd.DataFrame({'user_id': users['user_id'],\n",
        "                          'verified':users['verified'], 'verified_type':users['verified_type'],\n",
        "                          'follower_count':users['follower_count'], 'following_count':users['following_count'],\n",
        "                          'listed_count':users['listed_count'], 'tweet_count':users['tweet_count']})"
      ]
    },
    {
      "cell_type": "code",
      "source": [
        "tweet = pd.DataFrame({'tweet_id': tweets['tweet_id'], 'date_posted':tweets['date_posted'],\n",
        "                      'text':tweets['text'],'mentions':tweets['mentions']})"
      ],
      "metadata": {
        "id": "n0JyVyUDrtwP"
      },
      "execution_count": null,
      "outputs": []
    },
    {
      "cell_type": "code",
      "source": [
        "#needs more transformations\n",
        "tweet_metrics = pd.DataFrame({'tweet_id':tweets['tweet_id'], 'user_id':tweets['user_id'],\n",
        "                              'brand_id':tweets['mentions'], 'retweet_count':tweets['retweet_count'],\n",
        "                              'reply_count':tweets['reply_count'], 'like_count':tweets['like_count'],\n",
        "                              'quotetweet_count':tweets['quotetweet_count'], 'impression_count':tweets['impression_count']})"
      ],
      "metadata": {
        "id": "5VFA_prCruO2"
      },
      "execution_count": null,
      "outputs": []
    },
    {
      "cell_type": "code",
      "source": [
        "#adding brand_id\n",
        "# Define the mapping between old and new values\n",
        "mapping = {\n",
        "    'Starbucks': 100,\n",
        "    'Dunkin': 101,\n",
        "    'Netflix': 200,\n",
        "    'Hulu': 201,\n",
        "    'Southwest': 300,\n",
        "    'Delta': 301\n",
        "}\n",
        "\n",
        "# Replace the values in the 'mentions' column\n",
        "tweet_metrics['brand_id'] = tweet_metrics['brand_id'].replace(mapping)"
      ],
      "metadata": {
        "id": "kvn8tILcxLzM"
      },
      "execution_count": null,
      "outputs": []
    },
    {
      "cell_type": "code",
      "source": [
        "tweet_metrics.head()"
      ],
      "metadata": {
        "id": "EU6NG6SxxPLj",
        "colab": {
          "base_uri": "https://localhost:8080/",
          "height": 268
        },
        "outputId": "e6b48e41-5543-4858-9e3c-413f4507896c"
      },
      "execution_count": null,
      "outputs": [
        {
          "output_type": "execute_result",
          "data": {
            "text/plain": [
              "              tweet_id              user_id  brand_id  retweet_count  \\\n",
              "0  1622459787781840900  1407502243147005953       100              5   \n",
              "1  1622459776083828736  1596207409948762112       100              2   \n",
              "2  1622459674955218949  1279461628816371713       100             48   \n",
              "3  1622459637801811968  1320733420545343488       100              0   \n",
              "4  1622459620446076928  1604704875186905089       100              2   \n",
              "\n",
              "   reply_count  like_count  quotetweet_count  impression_count  \n",
              "0            1          28                 0               794  \n",
              "1            0           0                 0                 0  \n",
              "2            0           0                 0                 0  \n",
              "3            1           1                 0                18  \n",
              "4            0           0                 0                 0  "
            ],
            "text/html": [
              "\n",
              "  <div id=\"df-0c8f64d1-1b73-4ca4-bf19-6f1761b6a8a3\">\n",
              "    <div class=\"colab-df-container\">\n",
              "      <div>\n",
              "<style scoped>\n",
              "    .dataframe tbody tr th:only-of-type {\n",
              "        vertical-align: middle;\n",
              "    }\n",
              "\n",
              "    .dataframe tbody tr th {\n",
              "        vertical-align: top;\n",
              "    }\n",
              "\n",
              "    .dataframe thead th {\n",
              "        text-align: right;\n",
              "    }\n",
              "</style>\n",
              "<table border=\"1\" class=\"dataframe\">\n",
              "  <thead>\n",
              "    <tr style=\"text-align: right;\">\n",
              "      <th></th>\n",
              "      <th>tweet_id</th>\n",
              "      <th>user_id</th>\n",
              "      <th>brand_id</th>\n",
              "      <th>retweet_count</th>\n",
              "      <th>reply_count</th>\n",
              "      <th>like_count</th>\n",
              "      <th>quotetweet_count</th>\n",
              "      <th>impression_count</th>\n",
              "    </tr>\n",
              "  </thead>\n",
              "  <tbody>\n",
              "    <tr>\n",
              "      <th>0</th>\n",
              "      <td>1622459787781840900</td>\n",
              "      <td>1407502243147005953</td>\n",
              "      <td>100</td>\n",
              "      <td>5</td>\n",
              "      <td>1</td>\n",
              "      <td>28</td>\n",
              "      <td>0</td>\n",
              "      <td>794</td>\n",
              "    </tr>\n",
              "    <tr>\n",
              "      <th>1</th>\n",
              "      <td>1622459776083828736</td>\n",
              "      <td>1596207409948762112</td>\n",
              "      <td>100</td>\n",
              "      <td>2</td>\n",
              "      <td>0</td>\n",
              "      <td>0</td>\n",
              "      <td>0</td>\n",
              "      <td>0</td>\n",
              "    </tr>\n",
              "    <tr>\n",
              "      <th>2</th>\n",
              "      <td>1622459674955218949</td>\n",
              "      <td>1279461628816371713</td>\n",
              "      <td>100</td>\n",
              "      <td>48</td>\n",
              "      <td>0</td>\n",
              "      <td>0</td>\n",
              "      <td>0</td>\n",
              "      <td>0</td>\n",
              "    </tr>\n",
              "    <tr>\n",
              "      <th>3</th>\n",
              "      <td>1622459637801811968</td>\n",
              "      <td>1320733420545343488</td>\n",
              "      <td>100</td>\n",
              "      <td>0</td>\n",
              "      <td>1</td>\n",
              "      <td>1</td>\n",
              "      <td>0</td>\n",
              "      <td>18</td>\n",
              "    </tr>\n",
              "    <tr>\n",
              "      <th>4</th>\n",
              "      <td>1622459620446076928</td>\n",
              "      <td>1604704875186905089</td>\n",
              "      <td>100</td>\n",
              "      <td>2</td>\n",
              "      <td>0</td>\n",
              "      <td>0</td>\n",
              "      <td>0</td>\n",
              "      <td>0</td>\n",
              "    </tr>\n",
              "  </tbody>\n",
              "</table>\n",
              "</div>\n",
              "      <button class=\"colab-df-convert\" onclick=\"convertToInteractive('df-0c8f64d1-1b73-4ca4-bf19-6f1761b6a8a3')\"\n",
              "              title=\"Convert this dataframe to an interactive table.\"\n",
              "              style=\"display:none;\">\n",
              "        \n",
              "  <svg xmlns=\"http://www.w3.org/2000/svg\" height=\"24px\"viewBox=\"0 0 24 24\"\n",
              "       width=\"24px\">\n",
              "    <path d=\"M0 0h24v24H0V0z\" fill=\"none\"/>\n",
              "    <path d=\"M18.56 5.44l.94 2.06.94-2.06 2.06-.94-2.06-.94-.94-2.06-.94 2.06-2.06.94zm-11 1L8.5 8.5l.94-2.06 2.06-.94-2.06-.94L8.5 2.5l-.94 2.06-2.06.94zm10 10l.94 2.06.94-2.06 2.06-.94-2.06-.94-.94-2.06-.94 2.06-2.06.94z\"/><path d=\"M17.41 7.96l-1.37-1.37c-.4-.4-.92-.59-1.43-.59-.52 0-1.04.2-1.43.59L10.3 9.45l-7.72 7.72c-.78.78-.78 2.05 0 2.83L4 21.41c.39.39.9.59 1.41.59.51 0 1.02-.2 1.41-.59l7.78-7.78 2.81-2.81c.8-.78.8-2.07 0-2.86zM5.41 20L4 18.59l7.72-7.72 1.47 1.35L5.41 20z\"/>\n",
              "  </svg>\n",
              "      </button>\n",
              "      \n",
              "  <style>\n",
              "    .colab-df-container {\n",
              "      display:flex;\n",
              "      flex-wrap:wrap;\n",
              "      gap: 12px;\n",
              "    }\n",
              "\n",
              "    .colab-df-convert {\n",
              "      background-color: #E8F0FE;\n",
              "      border: none;\n",
              "      border-radius: 50%;\n",
              "      cursor: pointer;\n",
              "      display: none;\n",
              "      fill: #1967D2;\n",
              "      height: 32px;\n",
              "      padding: 0 0 0 0;\n",
              "      width: 32px;\n",
              "    }\n",
              "\n",
              "    .colab-df-convert:hover {\n",
              "      background-color: #E2EBFA;\n",
              "      box-shadow: 0px 1px 2px rgba(60, 64, 67, 0.3), 0px 1px 3px 1px rgba(60, 64, 67, 0.15);\n",
              "      fill: #174EA6;\n",
              "    }\n",
              "\n",
              "    [theme=dark] .colab-df-convert {\n",
              "      background-color: #3B4455;\n",
              "      fill: #D2E3FC;\n",
              "    }\n",
              "\n",
              "    [theme=dark] .colab-df-convert:hover {\n",
              "      background-color: #434B5C;\n",
              "      box-shadow: 0px 1px 3px 1px rgba(0, 0, 0, 0.15);\n",
              "      filter: drop-shadow(0px 1px 2px rgba(0, 0, 0, 0.3));\n",
              "      fill: #FFFFFF;\n",
              "    }\n",
              "  </style>\n",
              "\n",
              "      <script>\n",
              "        const buttonEl =\n",
              "          document.querySelector('#df-0c8f64d1-1b73-4ca4-bf19-6f1761b6a8a3 button.colab-df-convert');\n",
              "        buttonEl.style.display =\n",
              "          google.colab.kernel.accessAllowed ? 'block' : 'none';\n",
              "\n",
              "        async function convertToInteractive(key) {\n",
              "          const element = document.querySelector('#df-0c8f64d1-1b73-4ca4-bf19-6f1761b6a8a3');\n",
              "          const dataTable =\n",
              "            await google.colab.kernel.invokeFunction('convertToInteractive',\n",
              "                                                     [key], {});\n",
              "          if (!dataTable) return;\n",
              "\n",
              "          const docLinkHtml = 'Like what you see? Visit the ' +\n",
              "            '<a target=\"_blank\" href=https://colab.research.google.com/notebooks/data_table.ipynb>data table notebook</a>'\n",
              "            + ' to learn more about interactive tables.';\n",
              "          element.innerHTML = '';\n",
              "          dataTable['output_type'] = 'display_data';\n",
              "          await google.colab.output.renderOutput(dataTable, element);\n",
              "          const docLink = document.createElement('div');\n",
              "          docLink.innerHTML = docLinkHtml;\n",
              "          element.appendChild(docLink);\n",
              "        }\n",
              "      </script>\n",
              "    </div>\n",
              "  </div>\n",
              "  "
            ]
          },
          "metadata": {},
          "execution_count": 14
        }
      ]
    },
    {
      "cell_type": "code",
      "source": [
        "#adding tweet engagement\n",
        "# Compute the TweetEngagement\n",
        "tweet_metrics['TweetEngagement'] = ((tweet_metrics['like_count'] +\n",
        "                                     tweet_metrics['quotetweet_count'] +\n",
        "                                     tweet_metrics['reply_count'] +\n",
        "                                     tweet_metrics['retweet_count']) / tweet_metrics['impression_count']) * 100"
      ],
      "metadata": {
        "id": "gfJq7Fv1xL-4"
      },
      "execution_count": null,
      "outputs": []
    },
    {
      "cell_type": "code",
      "source": [
        "# Replace infinite values with 0\n",
        "tweet_metrics['TweetEngagement'] = round(tweet_metrics['TweetEngagement'].replace([np.inf, -np.inf], 0), 3)"
      ],
      "metadata": {
        "id": "cSy9KT1C5eCv"
      },
      "execution_count": null,
      "outputs": []
    },
    {
      "cell_type": "code",
      "source": [
        "tweet_metrics.head()"
      ],
      "metadata": {
        "id": "y5oakBDpxTjj",
        "colab": {
          "base_uri": "https://localhost:8080/",
          "height": 268
        },
        "outputId": "3502f78a-ada9-4c75-84ec-18c1b58f2780"
      },
      "execution_count": null,
      "outputs": [
        {
          "output_type": "execute_result",
          "data": {
            "text/plain": [
              "              tweet_id              user_id  brand_id  retweet_count  \\\n",
              "0  1622459787781840900  1407502243147005953       100              5   \n",
              "1  1622459776083828736  1596207409948762112       100              2   \n",
              "2  1622459674955218949  1279461628816371713       100             48   \n",
              "3  1622459637801811968  1320733420545343488       100              0   \n",
              "4  1622459620446076928  1604704875186905089       100              2   \n",
              "\n",
              "   reply_count  like_count  quotetweet_count  impression_count  \\\n",
              "0            1          28                 0               794   \n",
              "1            0           0                 0                 0   \n",
              "2            0           0                 0                 0   \n",
              "3            1           1                 0                18   \n",
              "4            0           0                 0                 0   \n",
              "\n",
              "   TweetEngagement  \n",
              "0            4.282  \n",
              "1            0.000  \n",
              "2            0.000  \n",
              "3           11.111  \n",
              "4            0.000  "
            ],
            "text/html": [
              "\n",
              "  <div id=\"df-39cc4650-4cc4-44bf-85a7-fba636f19b22\">\n",
              "    <div class=\"colab-df-container\">\n",
              "      <div>\n",
              "<style scoped>\n",
              "    .dataframe tbody tr th:only-of-type {\n",
              "        vertical-align: middle;\n",
              "    }\n",
              "\n",
              "    .dataframe tbody tr th {\n",
              "        vertical-align: top;\n",
              "    }\n",
              "\n",
              "    .dataframe thead th {\n",
              "        text-align: right;\n",
              "    }\n",
              "</style>\n",
              "<table border=\"1\" class=\"dataframe\">\n",
              "  <thead>\n",
              "    <tr style=\"text-align: right;\">\n",
              "      <th></th>\n",
              "      <th>tweet_id</th>\n",
              "      <th>user_id</th>\n",
              "      <th>brand_id</th>\n",
              "      <th>retweet_count</th>\n",
              "      <th>reply_count</th>\n",
              "      <th>like_count</th>\n",
              "      <th>quotetweet_count</th>\n",
              "      <th>impression_count</th>\n",
              "      <th>TweetEngagement</th>\n",
              "    </tr>\n",
              "  </thead>\n",
              "  <tbody>\n",
              "    <tr>\n",
              "      <th>0</th>\n",
              "      <td>1622459787781840900</td>\n",
              "      <td>1407502243147005953</td>\n",
              "      <td>100</td>\n",
              "      <td>5</td>\n",
              "      <td>1</td>\n",
              "      <td>28</td>\n",
              "      <td>0</td>\n",
              "      <td>794</td>\n",
              "      <td>4.282</td>\n",
              "    </tr>\n",
              "    <tr>\n",
              "      <th>1</th>\n",
              "      <td>1622459776083828736</td>\n",
              "      <td>1596207409948762112</td>\n",
              "      <td>100</td>\n",
              "      <td>2</td>\n",
              "      <td>0</td>\n",
              "      <td>0</td>\n",
              "      <td>0</td>\n",
              "      <td>0</td>\n",
              "      <td>0.000</td>\n",
              "    </tr>\n",
              "    <tr>\n",
              "      <th>2</th>\n",
              "      <td>1622459674955218949</td>\n",
              "      <td>1279461628816371713</td>\n",
              "      <td>100</td>\n",
              "      <td>48</td>\n",
              "      <td>0</td>\n",
              "      <td>0</td>\n",
              "      <td>0</td>\n",
              "      <td>0</td>\n",
              "      <td>0.000</td>\n",
              "    </tr>\n",
              "    <tr>\n",
              "      <th>3</th>\n",
              "      <td>1622459637801811968</td>\n",
              "      <td>1320733420545343488</td>\n",
              "      <td>100</td>\n",
              "      <td>0</td>\n",
              "      <td>1</td>\n",
              "      <td>1</td>\n",
              "      <td>0</td>\n",
              "      <td>18</td>\n",
              "      <td>11.111</td>\n",
              "    </tr>\n",
              "    <tr>\n",
              "      <th>4</th>\n",
              "      <td>1622459620446076928</td>\n",
              "      <td>1604704875186905089</td>\n",
              "      <td>100</td>\n",
              "      <td>2</td>\n",
              "      <td>0</td>\n",
              "      <td>0</td>\n",
              "      <td>0</td>\n",
              "      <td>0</td>\n",
              "      <td>0.000</td>\n",
              "    </tr>\n",
              "  </tbody>\n",
              "</table>\n",
              "</div>\n",
              "      <button class=\"colab-df-convert\" onclick=\"convertToInteractive('df-39cc4650-4cc4-44bf-85a7-fba636f19b22')\"\n",
              "              title=\"Convert this dataframe to an interactive table.\"\n",
              "              style=\"display:none;\">\n",
              "        \n",
              "  <svg xmlns=\"http://www.w3.org/2000/svg\" height=\"24px\"viewBox=\"0 0 24 24\"\n",
              "       width=\"24px\">\n",
              "    <path d=\"M0 0h24v24H0V0z\" fill=\"none\"/>\n",
              "    <path d=\"M18.56 5.44l.94 2.06.94-2.06 2.06-.94-2.06-.94-.94-2.06-.94 2.06-2.06.94zm-11 1L8.5 8.5l.94-2.06 2.06-.94-2.06-.94L8.5 2.5l-.94 2.06-2.06.94zm10 10l.94 2.06.94-2.06 2.06-.94-2.06-.94-.94-2.06-.94 2.06-2.06.94z\"/><path d=\"M17.41 7.96l-1.37-1.37c-.4-.4-.92-.59-1.43-.59-.52 0-1.04.2-1.43.59L10.3 9.45l-7.72 7.72c-.78.78-.78 2.05 0 2.83L4 21.41c.39.39.9.59 1.41.59.51 0 1.02-.2 1.41-.59l7.78-7.78 2.81-2.81c.8-.78.8-2.07 0-2.86zM5.41 20L4 18.59l7.72-7.72 1.47 1.35L5.41 20z\"/>\n",
              "  </svg>\n",
              "      </button>\n",
              "      \n",
              "  <style>\n",
              "    .colab-df-container {\n",
              "      display:flex;\n",
              "      flex-wrap:wrap;\n",
              "      gap: 12px;\n",
              "    }\n",
              "\n",
              "    .colab-df-convert {\n",
              "      background-color: #E8F0FE;\n",
              "      border: none;\n",
              "      border-radius: 50%;\n",
              "      cursor: pointer;\n",
              "      display: none;\n",
              "      fill: #1967D2;\n",
              "      height: 32px;\n",
              "      padding: 0 0 0 0;\n",
              "      width: 32px;\n",
              "    }\n",
              "\n",
              "    .colab-df-convert:hover {\n",
              "      background-color: #E2EBFA;\n",
              "      box-shadow: 0px 1px 2px rgba(60, 64, 67, 0.3), 0px 1px 3px 1px rgba(60, 64, 67, 0.15);\n",
              "      fill: #174EA6;\n",
              "    }\n",
              "\n",
              "    [theme=dark] .colab-df-convert {\n",
              "      background-color: #3B4455;\n",
              "      fill: #D2E3FC;\n",
              "    }\n",
              "\n",
              "    [theme=dark] .colab-df-convert:hover {\n",
              "      background-color: #434B5C;\n",
              "      box-shadow: 0px 1px 3px 1px rgba(0, 0, 0, 0.15);\n",
              "      filter: drop-shadow(0px 1px 2px rgba(0, 0, 0, 0.3));\n",
              "      fill: #FFFFFF;\n",
              "    }\n",
              "  </style>\n",
              "\n",
              "      <script>\n",
              "        const buttonEl =\n",
              "          document.querySelector('#df-39cc4650-4cc4-44bf-85a7-fba636f19b22 button.colab-df-convert');\n",
              "        buttonEl.style.display =\n",
              "          google.colab.kernel.accessAllowed ? 'block' : 'none';\n",
              "\n",
              "        async function convertToInteractive(key) {\n",
              "          const element = document.querySelector('#df-39cc4650-4cc4-44bf-85a7-fba636f19b22');\n",
              "          const dataTable =\n",
              "            await google.colab.kernel.invokeFunction('convertToInteractive',\n",
              "                                                     [key], {});\n",
              "          if (!dataTable) return;\n",
              "\n",
              "          const docLinkHtml = 'Like what you see? Visit the ' +\n",
              "            '<a target=\"_blank\" href=https://colab.research.google.com/notebooks/data_table.ipynb>data table notebook</a>'\n",
              "            + ' to learn more about interactive tables.';\n",
              "          element.innerHTML = '';\n",
              "          dataTable['output_type'] = 'display_data';\n",
              "          await google.colab.output.renderOutput(dataTable, element);\n",
              "          const docLink = document.createElement('div');\n",
              "          docLink.innerHTML = docLinkHtml;\n",
              "          element.appendChild(docLink);\n",
              "        }\n",
              "      </script>\n",
              "    </div>\n",
              "  </div>\n",
              "  "
            ]
          },
          "metadata": {},
          "execution_count": 17
        }
      ]
    },
    {
      "cell_type": "code",
      "source": [
        "user.to_csv('User.csv', index=False)\n",
        "files.download('User.csv')"
      ],
      "metadata": {
        "colab": {
          "base_uri": "https://localhost:8080/",
          "height": 17
        },
        "id": "XLBzqX2Cru0g",
        "outputId": "820b28e7-4e0b-464e-e5d6-6b14cd614cec"
      },
      "execution_count": null,
      "outputs": [
        {
          "output_type": "display_data",
          "data": {
            "text/plain": [
              "<IPython.core.display.Javascript object>"
            ],
            "application/javascript": [
              "\n",
              "    async function download(id, filename, size) {\n",
              "      if (!google.colab.kernel.accessAllowed) {\n",
              "        return;\n",
              "      }\n",
              "      const div = document.createElement('div');\n",
              "      const label = document.createElement('label');\n",
              "      label.textContent = `Downloading \"${filename}\": `;\n",
              "      div.appendChild(label);\n",
              "      const progress = document.createElement('progress');\n",
              "      progress.max = size;\n",
              "      div.appendChild(progress);\n",
              "      document.body.appendChild(div);\n",
              "\n",
              "      const buffers = [];\n",
              "      let downloaded = 0;\n",
              "\n",
              "      const channel = await google.colab.kernel.comms.open(id);\n",
              "      // Send a message to notify the kernel that we're ready.\n",
              "      channel.send({})\n",
              "\n",
              "      for await (const message of channel.messages) {\n",
              "        // Send a message to notify the kernel that we're ready.\n",
              "        channel.send({})\n",
              "        if (message.buffers) {\n",
              "          for (const buffer of message.buffers) {\n",
              "            buffers.push(buffer);\n",
              "            downloaded += buffer.byteLength;\n",
              "            progress.value = downloaded;\n",
              "          }\n",
              "        }\n",
              "      }\n",
              "      const blob = new Blob(buffers, {type: 'application/binary'});\n",
              "      const a = document.createElement('a');\n",
              "      a.href = window.URL.createObjectURL(blob);\n",
              "      a.download = filename;\n",
              "      div.appendChild(a);\n",
              "      a.click();\n",
              "      div.remove();\n",
              "    }\n",
              "  "
            ]
          },
          "metadata": {}
        },
        {
          "output_type": "display_data",
          "data": {
            "text/plain": [
              "<IPython.core.display.Javascript object>"
            ],
            "application/javascript": [
              "download(\"download_9578a377-9d47-4a79-b9a8-5b0adc5f348a\", \"User.csv\", 11655364)"
            ]
          },
          "metadata": {}
        }
      ]
    },
    {
      "cell_type": "code",
      "source": [
        "user['user_id'].duplicated().sum()"
      ],
      "metadata": {
        "colab": {
          "base_uri": "https://localhost:8080/"
        },
        "id": "XhdDQl6Bjv2T",
        "outputId": "fa829fbd-92b6-439b-cda0-fc691d3c8fb4"
      },
      "execution_count": null,
      "outputs": [
        {
          "output_type": "execute_result",
          "data": {
            "text/plain": [
              "0"
            ]
          },
          "metadata": {},
          "execution_count": 54
        }
      ]
    },
    {
      "cell_type": "code",
      "source": [
        "user_metrics.to_csv('User_Metrics.csv', index=False)\n",
        "files.download('User_Metrics.csv')"
      ],
      "metadata": {
        "colab": {
          "base_uri": "https://localhost:8080/",
          "height": 17
        },
        "id": "UPBin5QPru5K",
        "outputId": "e40a7fd6-a13d-48b3-f530-359813ce8a00"
      },
      "execution_count": null,
      "outputs": [
        {
          "output_type": "display_data",
          "data": {
            "text/plain": [
              "<IPython.core.display.Javascript object>"
            ],
            "application/javascript": [
              "\n",
              "    async function download(id, filename, size) {\n",
              "      if (!google.colab.kernel.accessAllowed) {\n",
              "        return;\n",
              "      }\n",
              "      const div = document.createElement('div');\n",
              "      const label = document.createElement('label');\n",
              "      label.textContent = `Downloading \"${filename}\": `;\n",
              "      div.appendChild(label);\n",
              "      const progress = document.createElement('progress');\n",
              "      progress.max = size;\n",
              "      div.appendChild(progress);\n",
              "      document.body.appendChild(div);\n",
              "\n",
              "      const buffers = [];\n",
              "      let downloaded = 0;\n",
              "\n",
              "      const channel = await google.colab.kernel.comms.open(id);\n",
              "      // Send a message to notify the kernel that we're ready.\n",
              "      channel.send({})\n",
              "\n",
              "      for await (const message of channel.messages) {\n",
              "        // Send a message to notify the kernel that we're ready.\n",
              "        channel.send({})\n",
              "        if (message.buffers) {\n",
              "          for (const buffer of message.buffers) {\n",
              "            buffers.push(buffer);\n",
              "            downloaded += buffer.byteLength;\n",
              "            progress.value = downloaded;\n",
              "          }\n",
              "        }\n",
              "      }\n",
              "      const blob = new Blob(buffers, {type: 'application/binary'});\n",
              "      const a = document.createElement('a');\n",
              "      a.href = window.URL.createObjectURL(blob);\n",
              "      a.download = filename;\n",
              "      div.appendChild(a);\n",
              "      a.click();\n",
              "      div.remove();\n",
              "    }\n",
              "  "
            ]
          },
          "metadata": {}
        },
        {
          "output_type": "display_data",
          "data": {
            "text/plain": [
              "<IPython.core.display.Javascript object>"
            ],
            "application/javascript": [
              "download(\"download_2e19de18-727f-4cf7-b266-5804937eeba4\", \"User_Metrics.csv\", 3244003)"
            ]
          },
          "metadata": {}
        }
      ]
    },
    {
      "cell_type": "code",
      "source": [
        "tweet.to_csv('Tweet.csv', index=False)\n",
        "files.download('Tweet.csv')"
      ],
      "metadata": {
        "colab": {
          "base_uri": "https://localhost:8080/",
          "height": 34
        },
        "id": "R3erK_iZru8z",
        "outputId": "ebd8256e-497c-44a4-8235-29f23db71283"
      },
      "execution_count": null,
      "outputs": [
        {
          "output_type": "display_data",
          "data": {
            "text/plain": [
              "<IPython.core.display.Javascript object>"
            ],
            "application/javascript": [
              "\n",
              "    async function download(id, filename, size) {\n",
              "      if (!google.colab.kernel.accessAllowed) {\n",
              "        return;\n",
              "      }\n",
              "      const div = document.createElement('div');\n",
              "      const label = document.createElement('label');\n",
              "      label.textContent = `Downloading \"${filename}\": `;\n",
              "      div.appendChild(label);\n",
              "      const progress = document.createElement('progress');\n",
              "      progress.max = size;\n",
              "      div.appendChild(progress);\n",
              "      document.body.appendChild(div);\n",
              "\n",
              "      const buffers = [];\n",
              "      let downloaded = 0;\n",
              "\n",
              "      const channel = await google.colab.kernel.comms.open(id);\n",
              "      // Send a message to notify the kernel that we're ready.\n",
              "      channel.send({})\n",
              "\n",
              "      for await (const message of channel.messages) {\n",
              "        // Send a message to notify the kernel that we're ready.\n",
              "        channel.send({})\n",
              "        if (message.buffers) {\n",
              "          for (const buffer of message.buffers) {\n",
              "            buffers.push(buffer);\n",
              "            downloaded += buffer.byteLength;\n",
              "            progress.value = downloaded;\n",
              "          }\n",
              "        }\n",
              "      }\n",
              "      const blob = new Blob(buffers, {type: 'application/binary'});\n",
              "      const a = document.createElement('a');\n",
              "      a.href = window.URL.createObjectURL(blob);\n",
              "      a.download = filename;\n",
              "      div.appendChild(a);\n",
              "      a.click();\n",
              "      div.remove();\n",
              "    }\n",
              "  "
            ]
          },
          "metadata": {}
        },
        {
          "output_type": "display_data",
          "data": {
            "text/plain": [
              "<IPython.core.display.Javascript object>"
            ],
            "application/javascript": [
              "download(\"download_d14f07ad-fcc5-40ad-b3e6-bfd507e9e238\", \"Tweet.csv\", 14009719)"
            ]
          },
          "metadata": {}
        }
      ]
    },
    {
      "cell_type": "code",
      "execution_count": null,
      "metadata": {
        "id": "yrQtJ9vkq2Gg",
        "colab": {
          "base_uri": "https://localhost:8080/",
          "height": 34
        },
        "outputId": "8fff7cc5-c611-48a9-8d07-6747d6bea2bd"
      },
      "outputs": [
        {
          "output_type": "display_data",
          "data": {
            "text/plain": [
              "<IPython.core.display.Javascript object>"
            ],
            "application/javascript": [
              "\n",
              "    async function download(id, filename, size) {\n",
              "      if (!google.colab.kernel.accessAllowed) {\n",
              "        return;\n",
              "      }\n",
              "      const div = document.createElement('div');\n",
              "      const label = document.createElement('label');\n",
              "      label.textContent = `Downloading \"${filename}\": `;\n",
              "      div.appendChild(label);\n",
              "      const progress = document.createElement('progress');\n",
              "      progress.max = size;\n",
              "      div.appendChild(progress);\n",
              "      document.body.appendChild(div);\n",
              "\n",
              "      const buffers = [];\n",
              "      let downloaded = 0;\n",
              "\n",
              "      const channel = await google.colab.kernel.comms.open(id);\n",
              "      // Send a message to notify the kernel that we're ready.\n",
              "      channel.send({})\n",
              "\n",
              "      for await (const message of channel.messages) {\n",
              "        // Send a message to notify the kernel that we're ready.\n",
              "        channel.send({})\n",
              "        if (message.buffers) {\n",
              "          for (const buffer of message.buffers) {\n",
              "            buffers.push(buffer);\n",
              "            downloaded += buffer.byteLength;\n",
              "            progress.value = downloaded;\n",
              "          }\n",
              "        }\n",
              "      }\n",
              "      const blob = new Blob(buffers, {type: 'application/binary'});\n",
              "      const a = document.createElement('a');\n",
              "      a.href = window.URL.createObjectURL(blob);\n",
              "      a.download = filename;\n",
              "      div.appendChild(a);\n",
              "      a.click();\n",
              "      div.remove();\n",
              "    }\n",
              "  "
            ]
          },
          "metadata": {}
        },
        {
          "output_type": "display_data",
          "data": {
            "text/plain": [
              "<IPython.core.display.Javascript object>"
            ],
            "application/javascript": [
              "download(\"download_4bab5afa-3dc2-430e-bc05-6d68593c90ba\", \"Tweet_Metrics.csv\", 4936260)"
            ]
          },
          "metadata": {}
        }
      ],
      "source": [
        "tweet_metrics.to_csv('Tweet_Metrics.csv', index=False)\n",
        "files.download('Tweet_Metrics.csv')"
      ]
    }
  ],
  "metadata": {
    "colab": {
      "provenance": []
    },
    "kernelspec": {
      "display_name": "Python 3",
      "name": "python3"
    },
    "language_info": {
      "name": "python"
    }
  },
  "nbformat": 4,
  "nbformat_minor": 0
}